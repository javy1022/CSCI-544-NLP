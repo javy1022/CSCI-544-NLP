{
  "cells": [
    {
      "cell_type": "markdown",
      "metadata": {
        "id": "J6uHNQo3thmc"
      },
      "source": [
        "#Import Libraries"
      ]
    },
    {
      "cell_type": "code",
      "execution_count": null,
      "metadata": {
        "colab": {
          "base_uri": "https://localhost:8080/"
        },
        "id": "Y6aDJpCPtM3Q",
        "outputId": "bef0bae0-1132-4723-c3fb-5f575b19805d"
      },
      "outputs": [
        {
          "name": "stdout",
          "output_type": "stream",
          "text": [
            "Looking in indexes: https://pypi.org/simple, https://us-python.pkg.dev/colab-wheels/public/simple/\n",
            "Collecting contractions\n",
            "  Downloading contractions-0.1.73-py2.py3-none-any.whl (8.7 kB)\n",
            "Collecting textsearch>=0.0.21\n",
            "  Downloading textsearch-0.0.24-py2.py3-none-any.whl (7.6 kB)\n",
            "Collecting pyahocorasick\n",
            "  Downloading pyahocorasick-2.0.0-cp38-cp38-manylinux_2_5_x86_64.manylinux1_x86_64.whl (104 kB)\n",
            "\u001b[2K     \u001b[90m━━━━━━━━━━━━━━━━━━━━━━━━━━━━━━━━━━━━━━━\u001b[0m \u001b[32m104.5/104.5 KB\u001b[0m \u001b[31m7.0 MB/s\u001b[0m eta \u001b[36m0:00:00\u001b[0m\n",
            "\u001b[?25hCollecting anyascii\n",
            "  Downloading anyascii-0.3.1-py3-none-any.whl (287 kB)\n",
            "\u001b[2K     \u001b[90m━━━━━━━━━━━━━━━━━━━━━━━━━━━━━━━━━━━━━━\u001b[0m \u001b[32m287.5/287.5 KB\u001b[0m \u001b[31m31.8 MB/s\u001b[0m eta \u001b[36m0:00:00\u001b[0m\n",
            "\u001b[?25hInstalling collected packages: pyahocorasick, anyascii, textsearch, contractions\n",
            "Successfully installed anyascii-0.3.1 contractions-0.1.73 pyahocorasick-2.0.0 textsearch-0.0.24\n"
          ]
        }
      ],
      "source": [
        "import torch\n",
        "import gensim\n",
        "import gensim.downloader as api\n",
        "import numpy as np\n",
        "from sklearn.svm import LinearSVC\n",
        "from sklearn.linear_model import Perceptron\n",
        "from sklearn.model_selection import train_test_split\n",
        "from sklearn.preprocessing import OneHotEncoder\n",
        "from sklearn.metrics import classification_report\n",
        "import pandas as pd\n",
        "from bs4 import BeautifulSoup\n",
        "!pip install contractions\n",
        "import contractions as ct\n",
        "import re\n",
        "import warnings"
      ]
    },
    {
      "cell_type": "markdown",
      "metadata": {
        "id": "Izo4tasbjrVn"
      },
      "source": [
        "#Load Word2vec Model"
      ]
    },
    {
      "cell_type": "code",
      "execution_count": null,
      "metadata": {
        "colab": {
          "base_uri": "https://localhost:8080/"
        },
        "id": "Mxm2r2VPjxhN",
        "outputId": "d79127bb-4959-4568-e020-c3d8361bfbdf"
      },
      "outputs": [
        {
          "name": "stdout",
          "output_type": "stream",
          "text": [
            "Mounted at /content/drive\n",
            "[==================================================] 100.0% 1662.8/1662.8MB downloaded\n"
          ]
        }
      ],
      "source": [
        "from google.colab import drive\n",
        "drive.mount(\"/content/drive\", force_remount=True)\n",
        "wv = api.load('word2vec-google-news-300')"
      ]
    },
    {
      "cell_type": "markdown",
      "metadata": {
        "id": "sNKg-Wk-grZs"
      },
      "source": [
        "#Define Functions"
      ]
    },
    {
      "cell_type": "code",
      "execution_count": null,
      "metadata": {
        "id": "Fp0l3DhQgwnQ"
      },
      "outputs": [],
      "source": [
        "def init_data(data_frame):\n",
        "    data_frame.dropna(inplace=True)\n",
        "    data_frame.drop_duplicates(inplace=True)\n",
        "    data_frame['star_rating'] = data_frame['star_rating'].astype('int')\n",
        "    return data_frame"
      ]
    },
    {
      "cell_type": "code",
      "execution_count": null,
      "metadata": {
        "id": "7qBEB2rbrGLJ"
      },
      "outputs": [],
      "source": [
        "def data_cleaning(data_frame):\n",
        "    for i in range(0, len(data_frame)):\n",
        "        if data_frame['star_rating'][i] == 1 or data_frame['star_rating'][i] == 2:\n",
        "            data_frame.loc[i, ['star_rating']] = 0\n",
        "        elif data_frame['star_rating'][i] == 3:\n",
        "            data_frame.loc[i, ['star_rating']] = 1\n",
        "        elif data_frame['star_rating'][i] == 4 or data_frame['star_rating'][i] == 5:\n",
        "            data_frame.loc[i, ['star_rating']] = 2\n",
        "\n",
        "        review_text = data_frame['review_body'][i]\n",
        "        # remove un-wanted html tags\n",
        "        if BeautifulSoup(review_text, \"html.parser\").find():\n",
        "            review_text = BeautifulSoup(review_text, \"html.parser\").get_text(\"　\")\n",
        "        # text extend contractions\n",
        "        review_text = ct.fix(review_text)\n",
        "        # remove non-alphabetical chars\n",
        "        regex = re.compile('[^a-zA-Z]')\n",
        "        review_text = regex.sub(' ', review_text)\n",
        "        # convert to lower case\n",
        "        review_text = review_text.lower().strip()\n",
        "        review_text = \" \".join(review_text.split())\n",
        "        # end of data processing\n",
        "        review_text = \" \".join(review_text.split())\n",
        "        # replace empty string with numpy's nan datatype\n",
        "        if review_text != \"\":                  \n",
        "            data_frame.loc[i, ['review_body']] = review_text\n",
        "        else:\n",
        "            data_frame.loc[i, ['review_body']] = np.nan\n",
        "    return data_frame"
      ]
    },
    {
      "cell_type": "code",
      "execution_count": null,
      "metadata": {
        "id": "uD_VePw9bpDi"
      },
      "outputs": [],
      "source": [
        "def data_prep(data):\n",
        "    prepared_data = []\n",
        "    for i in range (0,len(data)):\n",
        "        words_list = data[i].split()\n",
        "        vector_sum = np.zeros((300,))\n",
        "        total_word = len(words_list)\n",
        "        for word in words_list:\n",
        "            if word in wv.vocab:\n",
        "                vector_sum = vector_sum + wv[word]         \n",
        "        prepared_data.append(vector_sum/total_word)\n",
        "        \n",
        "    return np.array(prepared_data)"
      ]
    },
    {
      "cell_type": "code",
      "execution_count": null,
      "metadata": {
        "id": "uNfflN3GClrH"
      },
      "outputs": [],
      "source": [
        "# Print the training result\n",
        "def generate_report(y_test, y_pred):\n",
        "    report = classification_report(y_test, y_pred, zero_division=1, output_dict=True)\n",
        "    print(\"Class 1 Precision: \" + str(report[str(0)]['precision']) + \", Class 1 Recall: \" + str(\n",
        "        report[str(0)]['recall']) + \", Class 1 f1-score: \" + str(report[str(0)]['f1-score']))\n",
        "    print(\"Class 2 Precision: \" + str(report[str(1)]['precision']) + \", Class 2 Recall: \" + str(\n",
        "        report[str(1)]['recall']) + \", Class 2 f1-score: \" + str(report[str(1)]['f1-score']))\n",
        "    print(\"Class 3 Precision: \" + str(report[str(2)]['precision']) + \", Class 3 Recall: \" + str(\n",
        "        report[str(2)]['recall']) + \", Class 3 f1-score: \" + str(report[str(2)]['f1-score']))\n",
        "    print(\"Average Precision: \" + str(report['macro avg']['precision']) + \", Averagage Recall: \" + str(\n",
        "        report['macro avg']['recall']) + \", Averagage f1-score: \" + str(\n",
        "        report['macro avg']['f1-score']))\n",
        "    print(\"\\n\")"
      ]
    },
    {
      "cell_type": "markdown",
      "metadata": {
        "id": "SJjEbxDpgDbZ"
      },
      "source": [
        "#Initialization"
      ]
    },
    {
      "cell_type": "code",
      "execution_count": null,
      "metadata": {
        "id": "Erwe56YOfY9-"
      },
      "outputs": [],
      "source": [
        "RANDOM_SAMPLE_SIZE = 20000\n",
        "warnings.filterwarnings(\"ignore\", category=UserWarning, module='bs4')"
      ]
    },
    {
      "cell_type": "markdown",
      "metadata": {
        "id": "ORd-eXhXlpnM"
      },
      "source": [
        "#Prepare Balanced Dataset"
      ]
    },
    {
      "cell_type": "code",
      "execution_count": null,
      "metadata": {
        "id": "DdT_M4WOlxZT"
      },
      "outputs": [],
      "source": [
        "# reading data\n",
        "df = pd.read_pickle(\"/content/drive/MyDrive/Dataset/data.pkl\")\n",
        "df = init_data(df).reset_index(drop=True)\n",
        "\n",
        "# 3-classes dataset\n",
        "class1_df = df[df['star_rating'] <= 2].sample(RANDOM_SAMPLE_SIZE)\n",
        "class2_df = df[df['star_rating'] == 3].sample(RANDOM_SAMPLE_SIZE)\n",
        "class3_df = df[df['star_rating'] >= 4].sample(RANDOM_SAMPLE_SIZE)\n",
        "\n",
        "balanced_df = pd.concat([class1_df, class2_df, class3_df]).reset_index(drop=True)\n",
        "#balanced_df['star_rating'] = balanced_df['star_rating'].astype('string')\n",
        "cleaned_balanced_df = data_cleaning(balanced_df)\n",
        "cleaned_balanced_df.dropna(inplace=True)"
      ]
    },
    {
      "cell_type": "markdown",
      "metadata": {
        "id": "VFVTb25Gy-3p"
      },
      "source": [
        "#Task 2a"
      ]
    },
    {
      "cell_type": "code",
      "execution_count": null,
      "metadata": {
        "colab": {
          "base_uri": "https://localhost:8080/"
        },
        "id": "llGJOfcO9D3Z",
        "outputId": "67ec3140-59f7-4d5f-95c8-ed7e28df4e2a"
      },
      "outputs": [
        {
          "name": "stdout",
          "output_type": "stream",
          "text": [
            "ice + sport - walk ~= ('hockey', 0.5072677135467529)\n",
            "gas + dangerous - stable ~= ('natural_gas', 0.4578143358230591)\n",
            "cold + rain - sun ~= ('wet_weather', 0.5952470302581787)\n"
          ]
        }
      ],
      "source": [
        "# 3 examples using word2vec-google-news-300\n",
        "example_1 = wv.most_similar(positive=['ice','sport'], negative=['walk'])\n",
        "example_2 = wv.most_similar(positive=['gas', 'dangerous'], negative=['stable'])\n",
        "example_3 = wv.most_similar(positive=['cold', 'rain'], negative=['sun'])\n",
        "print(\"ice + sport - walk ~= \" + str(example_1[0]))\n",
        "print(\"gas + dangerous - stable ~= \" + str(example_2[0]))\n",
        "print(\"cold + rain - sun ~= \" + str(example_3[0]))"
      ]
    },
    {
      "cell_type": "markdown",
      "metadata": {
        "id": "FI-ZqGu4FP_U"
      },
      "source": [
        "#Task 2b"
      ]
    },
    {
      "cell_type": "code",
      "execution_count": null,
      "metadata": {
        "id": "d6vQkLkPFVY9"
      },
      "outputs": [],
      "source": [
        "sentences = cleaned_balanced_df[\"review_body\"].tolist()\n",
        "sentences_training = [index.split() for index in sentences ]\n",
        "# Train Word2vec model with Amazon review data\n",
        "my_word2vec = gensim.models.Word2Vec(sentences_training , size=300, window=13, min_count=9)\n"
      ]
    },
    {
      "cell_type": "code",
      "execution_count": null,
      "metadata": {
        "colab": {
          "base_uri": "https://localhost:8080/"
        },
        "id": "OvNgc7UDWuU4",
        "outputId": "67434de5-5fad-4b68-f859-bcc88eb68c91"
      },
      "outputs": [
        {
          "name": "stdout",
          "output_type": "stream",
          "text": [
            "ice + sport - walk ~= ('apricot', 0.7340902090072632)\n",
            "gas + dangerous - stable ~= ('purely', 0.5995689034461975)\n",
            "cold + rain - sun ~= ('mat', 0.5979752540588379)\n"
          ]
        }
      ],
      "source": [
        "# 3 examples using provided Amazon review\n",
        "example_1 = my_word2vec.wv.most_similar(positive=['ice','sport'], negative=['walk'])\n",
        "example_2 = my_word2vec.wv.most_similar(positive=['gas', 'dangerous'], negative=['stable'])\n",
        "example_3 = my_word2vec.wv.most_similar(positive=['cold', 'rain'], negative=['sun'])\n",
        "print(\"ice + sport - walk ~= \" + str(example_1[0]))\n",
        "print(\"gas + dangerous - stable ~= \" + str(example_2[0]))\n",
        "print(\"cold + rain - sun ~= \" + str(example_3[0]))\n"
      ]
    },
    {
      "cell_type": "markdown",
      "metadata": {
        "id": "O6pboK305N_e"
      },
      "source": [
        "#Task 3"
      ]
    },
    {
      "cell_type": "markdown",
      "metadata": {
        "id": "m1Xjd3tX8AC3"
      },
      "source": [
        "####Split dataset into Training and Testing Set"
      ]
    },
    {
      "cell_type": "code",
      "execution_count": null,
      "metadata": {
        "id": "rfS9-Wlg5RRj"
      },
      "outputs": [],
      "source": [
        "X_train, X_test, y_train, y_test = train_test_split(cleaned_balanced_df['review_body'], cleaned_balanced_df['star_rating'], test_size=0.2)"
      ]
    },
    {
      "cell_type": "markdown",
      "metadata": {
        "id": "BjnjmlLdI_0k"
      },
      "source": [
        "#### Convert Datasets to Correct Format"
      ]
    },
    {
      "cell_type": "code",
      "execution_count": null,
      "metadata": {
        "id": "olt4nAY-8fYu"
      },
      "outputs": [],
      "source": [
        "X_train_np = data_prep(X_train.to_numpy()) \n",
        "X_test_np = data_prep(X_test.to_numpy()) \n",
        "y_train_np = y_train.to_numpy()\n",
        "y_test_np =  y_test.to_numpy()"
      ]
    },
    {
      "cell_type": "markdown",
      "metadata": {
        "id": "Q1E5uguBvmbx"
      },
      "source": [
        "#Cache"
      ]
    },
    {
      "cell_type": "code",
      "execution_count": null,
      "metadata": {
        "id": "Sr88X2njkW-t"
      },
      "outputs": [],
      "source": [
        "\n",
        "with open('/content/drive/MyDrive/Dataset/X_train.npy', 'wb') as f:\n",
        "    np.save(f, X_train_np)\n",
        "with open('/content/drive/MyDrive/Dataset/X_test.npy', 'wb') as f1:\n",
        "    np.save(f1, X_test_np)\n",
        "with open('/content/drive/MyDrive/Dataset/y_train.npy', 'wb') as f2:\n",
        "    np.save(f2, y_train_np)\n",
        "with open('/content/drive/MyDrive/Dataset/y_test.npy', 'wb') as f3:\n",
        "    np.save(f3, y_test_np)\n"
      ]
    },
    {
      "cell_type": "markdown",
      "metadata": {
        "id": "yorHSUWzueGb"
      },
      "source": [
        "#### Train Perceptron"
      ]
    },
    {
      "cell_type": "code",
      "execution_count": null,
      "metadata": {
        "colab": {
          "base_uri": "https://localhost:8080/"
        },
        "id": "FrII3Njn59sB",
        "outputId": "3d762f3d-ddc4-4568-cfee-f7ff28d7b379"
      },
      "outputs": [
        {
          "name": "stdout",
          "output_type": "stream",
          "text": [
            "Class 1 Precision: 0.4372982941447672, Class 1 Recall: 0.940272614622057, Class 1 f1-score: 0.5969632601683582\n",
            "Class 2 Precision: 0.7133757961783439, Class 2 Recall: 0.08402100525131283, Class 2 f1-score: 0.15033557046979865\n",
            "Class 3 Precision: 0.7748948106591865, Class 3 Recall: 0.5573770491803278, Class 3 f1-score: 0.6483790523690773\n",
            "Average Precision: 0.6418563003274326, Averagage Recall: 0.5272235563512325, Averagage f1-score: 0.46522596100241137\n",
            "\n",
            "\n"
          ]
        }
      ],
      "source": [
        "clf_perceptron = Perceptron()\n",
        "clf_perceptron = clf_perceptron.fit(X_train_np, y_train_np)\n",
        "y_pred_perceptron = clf_perceptron.predict(X_test_np)\n",
        "generate_report(y_test_np, y_pred_perceptron)"
      ]
    },
    {
      "cell_type": "markdown",
      "metadata": {
        "id": "R86eteEjui1i"
      },
      "source": [
        "####Train Linear SVC"
      ]
    },
    {
      "cell_type": "code",
      "execution_count": null,
      "metadata": {
        "colab": {
          "base_uri": "https://localhost:8080/"
        },
        "id": "HIOVPay6ul8Y",
        "outputId": "7e27d3ac-220c-41d4-ea18-fc9fd3fed4a3"
      },
      "outputs": [
        {
          "name": "stdout",
          "output_type": "stream",
          "text": [
            "Class 1 Precision: 0.6594464500601684, Class 1 Recall: 0.6790582403965304, Class 1 f1-score: 0.6691086691086691\n",
            "Class 2 Precision: 0.5976980728051392, Class 2 Recall: 0.5583895973993498, Class 2 f1-score: 0.5773755656108597\n",
            "Class 3 Precision: 0.7266309639727361, Class 3 Recall: 0.7528373266078184, Class 3 f1-score: 0.7395020438498698\n",
            "Average Precision: 0.6612584956126812, Averagage Recall: 0.6634283881345663, Averagage f1-score: 0.6619954261897996\n",
            "\n",
            "\n"
          ]
        }
      ],
      "source": [
        "clf_linear_svc = LinearSVC()\n",
        "clf_linear_svc = clf_linear_svc.fit(X_train_np, y_train_np)\n",
        "y_pred_linear_svc = clf_linear_svc.predict(X_test_np)\n",
        "generate_report(y_test_np, y_pred_linear_svc)"
      ]
    },
    {
      "cell_type": "markdown",
      "metadata": {
        "id": "ulRHZC8pDVZG"
      },
      "source": [
        "#Task 4a"
      ]
    },
    {
      "cell_type": "markdown",
      "metadata": {
        "id": "xgUpxydewA8S"
      },
      "source": [
        "##Read Cache"
      ]
    },
    {
      "cell_type": "code",
      "execution_count": 73,
      "metadata": {
        "id": "d-U7U5GrF4JF",
        "colab": {
          "base_uri": "https://localhost:8080/",
          "height": 375
        },
        "outputId": "7390153a-00e9-4e84-9666-a482dca26ab8"
      },
      "outputs": [
        {
          "output_type": "stream",
          "name": "stdout",
          "text": [
            "Mounted at /content/drive\n"
          ]
        },
        {
          "output_type": "error",
          "ename": "ValueError",
          "evalue": "ignored",
          "traceback": [
            "\u001b[0;31m---------------------------------------------------------------------------\u001b[0m",
            "\u001b[0;31mValueError\u001b[0m                                Traceback (most recent call last)",
            "\u001b[0;32m<ipython-input-73-08727f708a49>\u001b[0m in \u001b[0;36m<module>\u001b[0;34m\u001b[0m\n\u001b[1;32m      4\u001b[0m \u001b[0;34m\u001b[0m\u001b[0m\n\u001b[1;32m      5\u001b[0m \u001b[0;32mwith\u001b[0m \u001b[0mopen\u001b[0m\u001b[0;34m(\u001b[0m\u001b[0;34m'/content/drive/MyDrive/Dataset/X_train.npy'\u001b[0m\u001b[0;34m,\u001b[0m \u001b[0;34m'rb'\u001b[0m\u001b[0;34m)\u001b[0m \u001b[0;32mas\u001b[0m \u001b[0mf\u001b[0m\u001b[0;34m:\u001b[0m\u001b[0;34m\u001b[0m\u001b[0;34m\u001b[0m\u001b[0m\n\u001b[0;32m----> 6\u001b[0;31m     \u001b[0mX_train_np_c\u001b[0m \u001b[0;34m=\u001b[0m \u001b[0mnp\u001b[0m\u001b[0;34m.\u001b[0m\u001b[0mload\u001b[0m\u001b[0;34m(\u001b[0m\u001b[0mf\u001b[0m\u001b[0;34m)\u001b[0m\u001b[0;34m\u001b[0m\u001b[0;34m\u001b[0m\u001b[0m\n\u001b[0m\u001b[1;32m      7\u001b[0m \u001b[0;32mwith\u001b[0m \u001b[0mopen\u001b[0m\u001b[0;34m(\u001b[0m\u001b[0;34m'/content/drive/MyDrive/Dataset/y_train.npy'\u001b[0m\u001b[0;34m,\u001b[0m \u001b[0;34m'rb'\u001b[0m\u001b[0;34m)\u001b[0m \u001b[0;32mas\u001b[0m \u001b[0mf\u001b[0m\u001b[0;34m:\u001b[0m\u001b[0;34m\u001b[0m\u001b[0;34m\u001b[0m\u001b[0m\n\u001b[1;32m      8\u001b[0m     \u001b[0my_train_np_c\u001b[0m \u001b[0;34m=\u001b[0m \u001b[0mnp\u001b[0m\u001b[0;34m.\u001b[0m\u001b[0mload\u001b[0m\u001b[0;34m(\u001b[0m\u001b[0mf\u001b[0m\u001b[0;34m,\u001b[0m \u001b[0mallow_pickle\u001b[0m\u001b[0;34m=\u001b[0m\u001b[0;32mTrue\u001b[0m\u001b[0;34m)\u001b[0m\u001b[0;34m\u001b[0m\u001b[0;34m\u001b[0m\u001b[0m\n",
            "\u001b[0;32m/usr/local/lib/python3.8/dist-packages/numpy/lib/npyio.py\u001b[0m in \u001b[0;36mload\u001b[0;34m(file, mmap_mode, allow_pickle, fix_imports, encoding)\u001b[0m\n\u001b[1;32m    433\u001b[0m             \u001b[0;31m# Try a pickle\u001b[0m\u001b[0;34m\u001b[0m\u001b[0;34m\u001b[0m\u001b[0;34m\u001b[0m\u001b[0m\n\u001b[1;32m    434\u001b[0m             \u001b[0;32mif\u001b[0m \u001b[0;32mnot\u001b[0m \u001b[0mallow_pickle\u001b[0m\u001b[0;34m:\u001b[0m\u001b[0;34m\u001b[0m\u001b[0;34m\u001b[0m\u001b[0m\n\u001b[0;32m--> 435\u001b[0;31m                 raise ValueError(\"Cannot load file containing pickled data \"\n\u001b[0m\u001b[1;32m    436\u001b[0m                                  \"when allow_pickle=False\")\n\u001b[1;32m    437\u001b[0m             \u001b[0;32mtry\u001b[0m\u001b[0;34m:\u001b[0m\u001b[0;34m\u001b[0m\u001b[0;34m\u001b[0m\u001b[0m\n",
            "\u001b[0;31mValueError\u001b[0m: Cannot load file containing pickled data when allow_pickle=False"
          ]
        }
      ],
      "source": [
        "from google.colab import drive\n",
        "import numpy as np\n",
        "drive.mount(\"/content/drive\", force_remount=True)\n",
        "\n",
        "with open('/content/drive/MyDrive/Dataset/X_train.npy', 'rb') as f:\n",
        "    X_train_np_c = np.load(f,allow_pickle=True)\n",
        "with open('/content/drive/MyDrive/Dataset/y_train.npy', 'rb') as f:\n",
        "    y_train_np_c = np.load(f, allow_pickle=True)\n",
        "with open('/content/drive/MyDrive/Dataset/X_test.npy', 'rb') as f:\n",
        "    X_test_np_c = np.load(f)\n",
        "with open('/content/drive/MyDrive/Dataset/y_test.npy', 'rb') as f:\n",
        "    y_test_np_c = np.load(f, allow_pickle=True)  \n"
      ]
    },
    {
      "cell_type": "markdown",
      "source": [
        "####Define functions"
      ],
      "metadata": {
        "id": "Hhwy3lA7VpCV"
      }
    },
    {
      "cell_type": "code",
      "source": [
        "import torch\n",
        "from torch import nn\n",
        "from torch.nn import functional as F\n",
        "from torch.utils.data import DataLoader,TensorDataset,random_split\n",
        "from torchvision import transforms,datasets\n",
        "import matplotlib.pyplot as plt\n",
        "\n",
        "def test_acc(model, dataloader):\n",
        "    model.eval()\n",
        "    \n",
        "    correct = 0\n",
        "    total = 0\n",
        "    with torch.no_grad():\n",
        "        for data, labels in dataloader:\n",
        "            outputs = model(data)\n",
        "            # Calculate the predicted labels\n",
        "            _, predicted = torch.max(outputs.data, 1)\n",
        "            total += labels.size(0)\n",
        "            correct += (predicted == labels).sum().item()  \n",
        "    accuracy = 100 * correct / total      \n",
        "    print('Test accuracy: {:.16f}%'.format(accuracy))\n",
        "\n",
        "def plot_loss(train_loss, test_loss, val_loss):\n",
        "    epochs = len(train_loss)\n",
        "    x = range(epochs)\n",
        "\n",
        "    plt.plot(x, train_loss, label='Training Loss')\n",
        "    plt.plot(x, test_loss, label='Testing Loss')\n",
        "    plt.plot(x, val_loss, label='Validation Loss')\n",
        "\n",
        "    plt.xlabel('Epoch')\n",
        "    plt.ylabel('Loss')\n",
        "    plt.legend()\n",
        "    plt.show()\n"
      ],
      "metadata": {
        "id": "_c0tOtRi6zoi"
      },
      "execution_count": 669,
      "outputs": []
    },
    {
      "cell_type": "markdown",
      "metadata": {
        "id": "vhg2zR1HXgSc"
      },
      "source": [
        "####Setup Dataloader"
      ]
    },
    {
      "cell_type": "code",
      "execution_count": 670,
      "metadata": {
        "colab": {
          "base_uri": "https://localhost:8080/"
        },
        "id": "H_fYexDyPon_",
        "outputId": "03714d2b-682d-4b94-dd79-df52313a5c55"
      },
      "outputs": [
        {
          "output_type": "stream",
          "name": "stdout",
          "text": [
            "Using cuda device\n"
          ]
        }
      ],
      "source": [
        "BATCH_SIZE = 256\n",
        "\n",
        "device = \"cuda\" if torch.cuda.is_available() else \"cpu\"\n",
        "print(f\"Using {device} device\")\n",
        "\n",
        "X_train_tensor = torch.Tensor(X_train_np_c)\n",
        "X_test_tensor  = torch.Tensor(X_test_np_c)\n",
        "y_train_tensor = torch.Tensor(y_train_np_c)\n",
        "y_test_tensor = torch.Tensor(y_test_np_c)\n",
        "\n",
        "train_dataset = TensorDataset(X_train_tensor,y_train_tensor)\n",
        "test_dataset = TensorDataset(X_test_tensor,y_test_tensor)\n",
        "\n",
        "train_dataset, validation_dataset = random_split(train_dataset,[0.9,0.1])\n",
        "\n",
        "train_dataloader = DataLoader(train_dataset, batch_size=BATCH_SIZE, shuffle=True) \n",
        "test_dataloader = DataLoader(test_dataset, batch_size=BATCH_SIZE, shuffle=True) \n",
        "validation_dataloader = DataLoader(validation_dataset, batch_size=BATCH_SIZE, shuffle=True) "
      ]
    },
    {
      "cell_type": "markdown",
      "source": [
        "####MLP constructor"
      ],
      "metadata": {
        "id": "RTmdvbCEVxrt"
      }
    },
    {
      "cell_type": "code",
      "execution_count": 671,
      "metadata": {
        "id": "hBReo9qTbskK"
      },
      "outputs": [],
      "source": [
        "class MLP(nn.Module):\n",
        "    \n",
        "  def __init__(self):\n",
        "    super().__init__()\n",
        "    hidden_1 = 100\n",
        "    hidden_2 = 10\n",
        "    dropout_p = 0.5\n",
        "\n",
        "    self.layers = nn.Sequential(\n",
        "      nn.Flatten(),\n",
        "      nn.Linear(300, hidden_1),\n",
        "      nn.BatchNorm1d(hidden_1),\n",
        "      nn.ReLU(),\n",
        "      nn.Dropout(p=dropout_p),\n",
        "      nn.Linear(hidden_1, hidden_2),\n",
        "      nn.BatchNorm1d(hidden_2),\n",
        "      nn.ReLU(),\n",
        "      nn.Dropout(p=dropout_p),\n",
        "      nn.Linear(hidden_2, 3),\n",
        "    )\n",
        "\n",
        "  def forward(self, x):\n",
        "    return self.layers(x)"
      ]
    },
    {
      "cell_type": "markdown",
      "source": [
        "####Train MLP and output result"
      ],
      "metadata": {
        "id": "rKKbI0K2V5hz"
      }
    },
    {
      "cell_type": "code",
      "execution_count": 676,
      "metadata": {
        "colab": {
          "base_uri": "https://localhost:8080/",
          "height": 314
        },
        "id": "r71car5tqg00",
        "outputId": "063a51e5-19e6-4a05-b162-c4f246aa3154"
      },
      "outputs": [
        {
          "output_type": "stream",
          "name": "stdout",
          "text": [
            "Early stopping\n"
          ]
        },
        {
          "output_type": "display_data",
          "data": {
            "text/plain": [
              "<Figure size 432x288 with 1 Axes>"
            ],
            "image/png": "[encoded data removed]"
          },
          "metadata": {
            "needs_background": "light"
          }
        },
        {
          "output_type": "stream",
          "name": "stdout",
          "text": [
            "Test accuracy: 67.3972831069255705%\n"
          ]
        }
      ],
      "source": [
        "mlp = MLP()\n",
        "loss_function = nn.CrossEntropyLoss()\n",
        "optimizer = torch.optim.RAdam(mlp.parameters(),weight_decay=0.001)\n",
        "\n",
        "best_loss = float('inf')\n",
        "patience = 10\n",
        "counter = 0\n",
        "train_list = []\n",
        "valid_list = []\n",
        "test_list = []\n",
        "\n",
        "# Training loop\n",
        "for epoch in range(0,100): \n",
        "        \n",
        "    train_loss = 0.0\n",
        "    for i, data in enumerate(train_dataloader, 0):\n",
        "      inputs, targets = data\n",
        "      \n",
        "      optimizer.zero_grad()\n",
        "      outputs = mlp(inputs)\n",
        "      targets = targets.type(torch.LongTensor)\n",
        "      loss = loss_function(outputs, targets)\n",
        "      loss.backward()\n",
        "      optimizer.step()\n",
        "      train_loss += loss.item()\n",
        "    \n",
        "    # record train loss\n",
        "    train_list.append(train_loss / len(train_dataloader))\n",
        " \n",
        "    # record validation loss\n",
        "    valid_loss = 0.0\n",
        "    mlp.eval()  \n",
        "    for i, data in enumerate(validation_dataloader, 0):\n",
        "        inputs, targets = data\n",
        "        outputs = mlp(inputs)\n",
        "        targets = targets.type(torch.LongTensor)\n",
        "        loss = loss_function(outputs, targets)\n",
        "        valid_loss += loss.item()\n",
        "    valid_list.append(valid_loss / len(validation_dataloader))\n",
        "   \n",
        "    # record test loss\n",
        "    mlp.eval()  \n",
        "    testing_loss = 0.0\n",
        "    with torch.no_grad():\n",
        "        for data, target in test_dataloader:\n",
        "            output = mlp(data)\n",
        "            target = target.type(torch.LongTensor)\n",
        "            loss = loss_function(output, target)\n",
        "            testing_loss += loss.item() * data.size(0)\n",
        "            \n",
        "    testing_loss /= len(test_dataloader.dataset)\n",
        "    test_list.append(testing_loss)\n",
        "    \n",
        "    # early stopping\n",
        "    if valid_loss < best_loss:\n",
        "        best_loss = valid_loss\n",
        "        counter = 0\n",
        "        torch.save(mlp.state_dict(), 'best_model.pt')\n",
        "    else:\n",
        "        counter += 1\n",
        "        if counter >= patience:\n",
        "            print(\"Early stopping\")\n",
        "            break\n",
        "\n",
        "# Use the best model obtained from the early stopping process\n",
        "mlp.load_state_dict(torch.load('best_model.pt'))\n",
        "plot_loss(train_list, test_list, valid_list)    \n",
        "test_acc(mlp,test_dataloader)\n"
      ]
    }
  ],
  "metadata": {
    "accelerator": "GPU",
    "colab": {
      "collapsed_sections": [
        "VFVTb25Gy-3p",
        "FI-ZqGu4FP_U"
      ],
      "provenance": []
    },
    "gpuClass": "standard",
    "kernelspec": {
      "display_name": "Python 3",
      "name": "python3"
    },
    "language_info": {
      "name": "python"
    }
  },
  "nbformat": 4,
  "nbformat_minor": 0
}