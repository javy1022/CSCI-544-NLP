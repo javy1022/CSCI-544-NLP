{
  "cells": [
    {
      "cell_type": "markdown",
      "metadata": {
        "id": "J6uHNQo3thmc"
      },
      "source": [
        "#Import Libraries"
      ]
    },
    {
      "cell_type": "code",
      "execution_count": 3,
      "metadata": {
        "colab": {
          "base_uri": "https://localhost:8080/"
        },
        "id": "Y6aDJpCPtM3Q",
        "outputId": "98b6e24a-9127-42dd-8f44-3aa98dd6f535"
      },
      "outputs": [
        {
          "output_type": "stream",
          "name": "stdout",
          "text": [
            "Looking in indexes: https://pypi.org/simple, https://us-python.pkg.dev/colab-wheels/public/simple/\n",
            "Collecting symspellpy\n",
            "  Downloading symspellpy-6.7.7-py3-none-any.whl (2.6 MB)\n",
            "\u001b[2K     \u001b[90m━━━━━━━━━━━━━━━━━━━━━━━━━━━━━━━━━━━━━━━━\u001b[0m \u001b[32m2.6/2.6 MB\u001b[0m \u001b[31m28.0 MB/s\u001b[0m eta \u001b[36m0:00:00\u001b[0m\n",
            "\u001b[?25hCollecting editdistpy>=0.1.3\n",
            "  Downloading editdistpy-0.1.3-cp38-cp38-manylinux_2_5_x86_64.manylinux1_x86_64.manylinux_2_17_x86_64.manylinux2014_x86_64.whl (126 kB)\n",
            "\u001b[2K     \u001b[90m━━━━━━━━━━━━━━━━━━━━━━━━━━━━━━━━━━━━━━\u001b[0m \u001b[32m126.9/126.9 KB\u001b[0m \u001b[31m16.7 MB/s\u001b[0m eta \u001b[36m0:00:00\u001b[0m\n",
            "\u001b[?25hInstalling collected packages: editdistpy, symspellpy\n",
            "Successfully installed editdistpy-0.1.3 symspellpy-6.7.7\n",
            "Looking in indexes: https://pypi.org/simple, https://us-python.pkg.dev/colab-wheels/public/simple/\n",
            "Collecting contractions\n",
            "  Downloading contractions-0.1.73-py2.py3-none-any.whl (8.7 kB)\n",
            "Collecting textsearch>=0.0.21\n",
            "  Downloading textsearch-0.0.24-py2.py3-none-any.whl (7.6 kB)\n",
            "Collecting anyascii\n",
            "  Downloading anyascii-0.3.1-py3-none-any.whl (287 kB)\n",
            "\u001b[2K     \u001b[90m━━━━━━━━━━━━━━━━━━━━━━━━━━━━━━━━━━━━━━━\u001b[0m \u001b[32m287.5/287.5 KB\u001b[0m \u001b[31m5.9 MB/s\u001b[0m eta \u001b[36m0:00:00\u001b[0m\n",
            "\u001b[?25hCollecting pyahocorasick\n",
            "  Downloading pyahocorasick-2.0.0-cp38-cp38-manylinux_2_5_x86_64.manylinux1_x86_64.whl (104 kB)\n",
            "\u001b[2K     \u001b[90m━━━━━━━━━━━━━━━━━━━━━━━━━━━━━━━━━━━━━━\u001b[0m \u001b[32m104.5/104.5 KB\u001b[0m \u001b[31m14.2 MB/s\u001b[0m eta \u001b[36m0:00:00\u001b[0m\n",
            "\u001b[?25hInstalling collected packages: pyahocorasick, anyascii, textsearch, contractions\n",
            "Successfully installed anyascii-0.3.1 contractions-0.1.73 pyahocorasick-2.0.0 textsearch-0.0.24\n"
          ]
        }
      ],
      "source": [
        "import torch\n",
        "import gensim\n",
        "import gensim.downloader as api\n",
        "import numpy as np\n",
        "\n",
        "from sklearn.svm import LinearSVC\n",
        "from sklearn.linear_model import Perceptron\n",
        "from sklearn.model_selection import train_test_split\n",
        "from sklearn.preprocessing import OneHotEncoder\n",
        "from sklearn.metrics import classification_report\n",
        "\n",
        "import pandas as pd\n",
        "from bs4 import BeautifulSoup\n",
        "!pip install symspellpy\n",
        "from symspellpy import SymSpell\n",
        "!pip install contractions\n",
        "import contractions\n",
        "import pkg_resources\n",
        "import contractions as ct\n",
        "import re\n",
        "import warnings"
      ]
    },
    {
      "cell_type": "markdown",
      "metadata": {
        "id": "Izo4tasbjrVn"
      },
      "source": [
        "#Load Word2vec Model"
      ]
    },
    {
      "cell_type": "code",
      "execution_count": null,
      "metadata": {
        "colab": {
          "base_uri": "https://localhost:8080/"
        },
        "id": "Mxm2r2VPjxhN",
        "outputId": "7232c2ff-320f-4a83-8f6f-428c06a50232"
      },
      "outputs": [
        {
          "output_type": "stream",
          "name": "stdout",
          "text": [
            "Mounted at /content/drive\n",
            "[====----------------------------------------------] 8.9% 148.2/1662.8MB downloaded"
          ]
        }
      ],
      "source": [
        "from google.colab import drive\n",
        "drive.mount(\"/content/drive\", force_remount=True)\n",
        "wv = api.load('word2vec-google-news-300')"
      ]
    },
    {
      "cell_type": "markdown",
      "metadata": {
        "id": "sNKg-Wk-grZs"
      },
      "source": [
        "#Define Functions"
      ]
    },
    {
      "cell_type": "code",
      "execution_count": null,
      "metadata": {
        "id": "Fp0l3DhQgwnQ"
      },
      "outputs": [],
      "source": [
        "def init_data(data_frame):\n",
        "    data_frame.dropna(inplace=True)\n",
        "    data_frame.drop_duplicates(inplace=True)\n",
        "    data_frame['star_rating'] = data_frame['star_rating'].astype('int')\n",
        "    return data_frame"
      ]
    },
    {
      "cell_type": "code",
      "source": [
        "def init_spell_checker():\n",
        "    sym_spell_obj = SymSpell(max_dictionary_edit_distance=2, prefix_length=7)\n",
        "    dictionary_path = pkg_resources.resource_filename(\n",
        "        \"symspellpy\", \"frequency_dictionary_en_82_765.txt\"\n",
        "    )\n",
        "    bigram_path = pkg_resources.resource_filename(\n",
        "        \"symspellpy\", \"frequency_bigramdictionary_en_243_342.txt\"\n",
        "    )\n",
        "    sym_spell_obj.load_dictionary(dictionary_path, term_index=0, count_index=1)\n",
        "    sym_spell_obj.load_bigram_dictionary(bigram_path, term_index=0, count_index=2)\n",
        "\n",
        "    return sym_spell_obj"
      ],
      "metadata": {
        "id": "uJJRcbXq0AhJ"
      },
      "execution_count": null,
      "outputs": []
    },
    {
      "cell_type": "code",
      "source": [
        "def spell_correct(text):\n",
        "    input_term = text\n",
        "    suggestions = sym_spell.lookup_compound(\n",
        "        input_term, max_edit_distance=2, transfer_casing=True\n",
        "    )\n",
        "    return suggestions[0].term"
      ],
      "metadata": {
        "id": "4p80gPqv0BS5"
      },
      "execution_count": null,
      "outputs": []
    },
    {
      "cell_type": "code",
      "source": [
        "def exclude_words_not_in_w2v(review_body_string):\n",
        "    word_list = review_body_string.split()\n",
        "    buffer_string = \"\"\n",
        "\n",
        "    for w in word_list:\n",
        "        if w in wv.vocab:\n",
        "            buffer_string = buffer_string + w + \" \"\n",
        "\n",
        "    buffer_string = re.sub(' +', ' ', buffer_string).strip()\n",
        "    return buffer_string"
      ],
      "metadata": {
        "id": "4hVAizQn3bzd"
      },
      "execution_count": null,
      "outputs": []
    },
    {
      "cell_type": "code",
      "execution_count": null,
      "metadata": {
        "id": "7qBEB2rbrGLJ"
      },
      "outputs": [],
      "source": [
        "def data_cleaning(data_frame):\n",
        "    for i in range(0, len(data_frame)):\n",
        "        if data_frame['star_rating'][i] == 1 or data_frame['star_rating'][i] == 2:\n",
        "            data_frame.loc[i, ['star_rating']] = 0\n",
        "        elif data_frame['star_rating'][i] == 3:\n",
        "            data_frame.loc[i, ['star_rating']] = 1\n",
        "        elif data_frame['star_rating'][i] == 4 or data_frame['star_rating'][i] == 5:\n",
        "            data_frame.loc[i, ['star_rating']] = 2\n",
        "\n",
        "        review_text = data_frame['review_body'][i]\n",
        "        review_text = \" \".join(review_text.split())\n",
        "        # remove un-wanted html tags\n",
        "        if BeautifulSoup(review_text, \"html.parser\").find():\n",
        "            review_text = BeautifulSoup(review_text, \"html.parser\").get_text(\"　\")\n",
        "            review_text = \" \".join(review_text.split())\n",
        "        # spell correction\n",
        "        review_text = spell_correct(review_text)\n",
        "        # text extend contractions\n",
        "        review_text = \" \".join(review_text.split())\n",
        "        review_text = ct.fix(review_text)\n",
        "        # remove non-alphabetical chars\n",
        "        regex = re.compile('[^a-zA-Z]')\n",
        "        review_text = regex.sub(' ', review_text)\n",
        "        # convert to lower case\n",
        "        review_text = review_text.lower()\n",
        "        # exclude words not in w2v\n",
        "        review_text = \" \".join(review_text.split())\n",
        "        review_text = exclude_words_not_in_w2v(review_text)\n",
        "        # end of data processing\n",
        "        review_text = \" \".join(review_text.split())\n",
        "        # replace empty string with numpy's nan datatype\n",
        "        if review_text != \"\":                  \n",
        "            data_frame.loc[i, ['review_body']] = review_text\n",
        "        else:\n",
        "            data_frame.loc[i, ['review_body']] = np.nan\n",
        "    return data_frame"
      ]
    },
    {
      "cell_type": "code",
      "execution_count": 9,
      "metadata": {
        "id": "uD_VePw9bpDi"
      },
      "outputs": [],
      "source": [
        "def data_prep(data):\n",
        "    prepared_data = []\n",
        "    for i in range (0,len(data)):\n",
        "        words_list = data[i].split()\n",
        "        vector_sum = np.zeros((300,))\n",
        "        total_word = len(words_list)\n",
        "        for word in words_list:\n",
        "            vector_sum = vector_sum + wv[word]  \n",
        "                \n",
        "        prepared_data.append(vector_sum/total_word)\n",
        "        \n",
        "    return np.array(prepared_data)\n",
        "\"\"\"\n",
        "def data_prep2(data):\n",
        "    prepared_data = []\n",
        "    for i in range(0, len(data)):\n",
        "        words_list = data[i].split()\n",
        "        concat_vector = []\n",
        "        index = 0\n",
        "        for word in words_list:\n",
        "            if index > 9:\n",
        "                break\n",
        "            if word in wv:\n",
        "                concat_vector.append(wv[word])\n",
        "                index += 1\n",
        "        while len(concat_vector) < 10:\n",
        "            concat_vector.append(np.zeros(300))\n",
        "        prepared_data.append(np.concatenate(concat_vector, axis=None))\n",
        "    prepared_data = np.array(prepared_data, dtype=object)\n",
        "    prepared_data = np.reshape(prepared_data, (prepared_data.shape[0], 3000))\n",
        "    return prepared_data\n",
        "\"\"\" \n",
        "#LESS RAM\n",
        "def data_prep2(data):\n",
        "    prepared_data = np.zeros((len(data), 3000))\n",
        "    for i in range(0, len(data)):\n",
        "        words_list = data[i].split()\n",
        "        index = 0\n",
        "        for word in words_list:\n",
        "            if index > 9:\n",
        "                break\n",
        "            if word in wv:\n",
        "                prepared_data[i][index*300:(index+1)*300] = wv[word]\n",
        "                index += 1\n",
        "    return prepared_data\n",
        "\n",
        "def data_prep3(data):\n",
        "    total_reviews = len(data)\n",
        "    max_review_length = 20\n",
        "    input_sequence = torch.zeros((total_reviews, max_review_length, 300))\n",
        "\n",
        "    # iterate over the reviews\n",
        "    for i in range(total_reviews):\n",
        "    # convert the review into a list of words\n",
        "        words = data[i].split()\n",
        "\n",
        "    # iterate over the words in the review and convert them to their corresponding word vectors\n",
        "        for j in range(min(len(words), max_review_length)):\n",
        "            if words[j] in wv.vocab:\n",
        "                input_sequence[i][j] = torch.from_numpy(wv[words[j]])\n",
        "            else:\n",
        "                input_sequence[i][j] = torch.zeros(300)\n",
        "    \n",
        "    return input_sequence\n"
      ]
    },
    {
      "cell_type": "code",
      "execution_count": null,
      "metadata": {
        "id": "uNfflN3GClrH"
      },
      "outputs": [],
      "source": [
        "# Print the training result\n",
        "def generate_report(y_test, y_pred):\n",
        "    report = classification_report(y_test, y_pred, zero_division=1, output_dict=True)\n",
        "    print(\"Class 1 Precision: \" + str(report[str(0)]['precision']) + \", Class 1 Recall: \" + str(\n",
        "        report[str(0)]['recall']) + \", Class 1 f1-score: \" + str(report[str(0)]['f1-score']))\n",
        "    print(\"Class 2 Precision: \" + str(report[str(1)]['precision']) + \", Class 2 Recall: \" + str(\n",
        "        report[str(1)]['recall']) + \", Class 2 f1-score: \" + str(report[str(1)]['f1-score']))\n",
        "    print(\"Class 3 Precision: \" + str(report[str(2)]['precision']) + \", Class 3 Recall: \" + str(\n",
        "        report[str(2)]['recall']) + \", Class 3 f1-score: \" + str(report[str(2)]['f1-score']))\n",
        "    print(\"Average Precision: \" + str(report['macro avg']['precision']) + \", Averagage Recall: \" + str(\n",
        "        report['macro avg']['recall']) + \", Averagage f1-score: \" + str(\n",
        "        report['macro avg']['f1-score']))\n",
        "    print(\"\\n\")"
      ]
    },
    {
      "cell_type": "markdown",
      "metadata": {
        "id": "SJjEbxDpgDbZ"
      },
      "source": [
        "#Initialization"
      ]
    },
    {
      "cell_type": "code",
      "execution_count": null,
      "metadata": {
        "id": "Erwe56YOfY9-"
      },
      "outputs": [],
      "source": [
        "RANDOM_SAMPLE_SIZE = 20000\n",
        "sym_spell = init_spell_checker()\n",
        "warnings.filterwarnings(\"ignore\", category=UserWarning, module='bs4')\n"
      ]
    },
    {
      "cell_type": "markdown",
      "metadata": {
        "id": "ORd-eXhXlpnM"
      },
      "source": [
        "#Prepare Balanced Dataset"
      ]
    },
    {
      "cell_type": "code",
      "execution_count": null,
      "metadata": {
        "id": "DdT_M4WOlxZT"
      },
      "outputs": [],
      "source": [
        "# reading data\n",
        "df = pd.read_pickle(\"/content/drive/MyDrive/Dataset/data.pkl\")\n",
        "df = init_data(df).reset_index(drop=True)\n",
        "\n",
        "# 3-classes dataset\n",
        "class1_df = df[df['star_rating'] <= 2].sample(RANDOM_SAMPLE_SIZE)\n",
        "class2_df = df[df['star_rating'] == 3].sample(RANDOM_SAMPLE_SIZE)\n",
        "class3_df = df[df['star_rating'] >= 4].sample(RANDOM_SAMPLE_SIZE)\n",
        "\n",
        "balanced_df = pd.concat([class1_df, class2_df, class3_df]).reset_index(drop=True)\n",
        "cleaned_balanced_df = data_cleaning(balanced_df)\n",
        "cleaned_balanced_df.dropna(inplace=True)"
      ]
    },
    {
      "cell_type": "code",
      "source": [
        "cleaned_balanced_df = pd.read_pickle(\"/content/drive/MyDrive/Dataset/cleaned_data.pkl\")"
      ],
      "metadata": {
        "id": "yXhyVSr5CEJZ"
      },
      "execution_count": null,
      "outputs": []
    },
    {
      "cell_type": "markdown",
      "metadata": {
        "id": "VFVTb25Gy-3p"
      },
      "source": [
        "#Task 2a"
      ]
    },
    {
      "cell_type": "code",
      "execution_count": null,
      "metadata": {
        "colab": {
          "base_uri": "https://localhost:8080/"
        },
        "id": "llGJOfcO9D3Z",
        "outputId": "9223a1c9-1c57-4f19-f1ae-4877c29080e7"
      },
      "outputs": [
        {
          "output_type": "stream",
          "name": "stdout",
          "text": [
            "ice + sport - walk ~= ('hockey', 0.5072677135467529)\n",
            "gas + dangerous - stable ~= ('natural_gas', 0.4578143358230591)\n",
            "cold + rain - sun ~= ('wet_weather', 0.5952470302581787)\n"
          ]
        }
      ],
      "source": [
        "# 3 examples using word2vec-google-news-300\n",
        "example_1 = wv.most_similar(positive=['ice','sport'], negative=['walk'])\n",
        "example_2 = wv.most_similar(positive=['gas', 'dangerous'], negative=['stable'])\n",
        "example_3 = wv.most_similar(positive=['cold', 'rain'], negative=['sun'])\n",
        "print(\"ice + sport - walk ~= \" + str(example_1[0]))\n",
        "print(\"gas + dangerous - stable ~= \" + str(example_2[0]))\n",
        "print(\"cold + rain - sun ~= \" + str(example_3[0]))"
      ]
    },
    {
      "cell_type": "markdown",
      "metadata": {
        "id": "FI-ZqGu4FP_U"
      },
      "source": [
        "#Task 2b"
      ]
    },
    {
      "cell_type": "code",
      "execution_count": null,
      "metadata": {
        "id": "d6vQkLkPFVY9"
      },
      "outputs": [],
      "source": [
        "sentences = cleaned_balanced_df[\"review_body\"].tolist()\n",
        "sentences_training = [index.split() for index in sentences ]\n",
        "# Train Word2vec model with Amazon review data\n",
        "my_word2vec = gensim.models.Word2Vec(sentences_training , size=300, window=13, min_count=9)\n"
      ]
    },
    {
      "cell_type": "code",
      "execution_count": null,
      "metadata": {
        "colab": {
          "base_uri": "https://localhost:8080/"
        },
        "id": "OvNgc7UDWuU4",
        "outputId": "31eb0ff4-3306-45ff-ef03-76b0f03a6f78"
      },
      "outputs": [
        {
          "output_type": "stream",
          "name": "stdout",
          "text": [
            "ice + sport - walk ~= ('amber', 0.7013514041900635)\n",
            "gas + dangerous - stable ~= ('practices', 0.6267540454864502)\n",
            "cold + rain - sun ~= ('freshener', 0.6289527416229248)\n"
          ]
        }
      ],
      "source": [
        "# 3 examples using provided Amazon review\n",
        "example_1 = my_word2vec.wv.most_similar(positive=['ice','sport'], negative=['walk'])\n",
        "example_2 = my_word2vec.wv.most_similar(positive=['gas', 'dangerous'], negative=['stable'])\n",
        "example_3 = my_word2vec.wv.most_similar(positive=['cold', 'rain'], negative=['sun'])\n",
        "print(\"ice + sport - walk ~= \" + str(example_1[0]))\n",
        "print(\"gas + dangerous - stable ~= \" + str(example_2[0]))\n",
        "print(\"cold + rain - sun ~= \" + str(example_3[0]))\n"
      ]
    },
    {
      "cell_type": "markdown",
      "metadata": {
        "id": "O6pboK305N_e"
      },
      "source": [
        "#Task 3"
      ]
    },
    {
      "cell_type": "markdown",
      "metadata": {
        "id": "m1Xjd3tX8AC3"
      },
      "source": [
        "####Split dataset into Training and Testing Set"
      ]
    },
    {
      "cell_type": "code",
      "execution_count": null,
      "metadata": {
        "id": "rfS9-Wlg5RRj"
      },
      "outputs": [],
      "source": [
        "X_train, X_test, y_train, y_test = train_test_split(cleaned_balanced_df['review_body'], cleaned_balanced_df['star_rating'], test_size=0.2)"
      ]
    },
    {
      "cell_type": "markdown",
      "metadata": {
        "id": "BjnjmlLdI_0k"
      },
      "source": [
        "#### Convert Datasets to Correct Format"
      ]
    },
    {
      "cell_type": "code",
      "execution_count": 10,
      "metadata": {
        "id": "olt4nAY-8fYu"
      },
      "outputs": [],
      "source": [
        "X_train_np = data_prep(X_train.to_numpy()) \n",
        "X_test_np = data_prep(X_test.to_numpy()) \n",
        "y_train_np = y_train.to_numpy()\n",
        "y_test_np =  y_test.to_numpy()\n",
        "\n",
        "X_train_np_2 = data_prep2(X_train.to_numpy()) \n",
        "X_test_np_2 = data_prep2(X_test.to_numpy()) \n",
        "\n",
        "X_train_np_3 = data_prep3(X_train.to_numpy()) \n",
        "X_test_np_3 = data_prep3(X_test.to_numpy()) "
      ]
    },
    {
      "cell_type": "markdown",
      "metadata": {
        "id": "Q1E5uguBvmbx"
      },
      "source": [
        "#Cache"
      ]
    },
    {
      "cell_type": "code",
      "execution_count": 11,
      "metadata": {
        "id": "Sr88X2njkW-t"
      },
      "outputs": [],
      "source": [
        "# task 4\n",
        "with open('/content/drive/MyDrive/Dataset/X_train.npy', 'wb') as f:\n",
        "    np.save(f, X_train_np)\n",
        "with open('/content/drive/MyDrive/Dataset/X_test.npy', 'wb') as f1:\n",
        "    np.save(f1, X_test_np)\n",
        "with open('/content/drive/MyDrive/Dataset/y_train.npy', 'wb') as f2:\n",
        "    np.save(f2, y_train_np)\n",
        "with open('/content/drive/MyDrive/Dataset/y_test.npy', 'wb') as f3:\n",
        "    np.save(f3, y_test_np)\n",
        "\n",
        "with open('/content/drive/MyDrive/Dataset/X_train_2.npy', 'wb') as f:\n",
        "    np.save(f, X_train_np_2)\n",
        "with open('/content/drive/MyDrive/Dataset/X_test_2.npy', 'wb') as f1:\n",
        "    np.save(f1, X_test_np_2)\n",
        "# task 5\n",
        "with open('/content/drive/MyDrive/Dataset/X_train_3.npy', 'wb') as f:\n",
        "    np.save(f, X_train_np_3)\n",
        "with open('/content/drive/MyDrive/Dataset/X_test_3.npy', 'wb') as f1:\n",
        "    np.save(f1, X_test_np_3)\n"
      ]
    },
    {
      "cell_type": "markdown",
      "metadata": {
        "id": "yorHSUWzueGb"
      },
      "source": [
        "#### Train Perceptron"
      ]
    },
    {
      "cell_type": "code",
      "execution_count": 15,
      "metadata": {
        "id": "FrII3Njn59sB",
        "colab": {
          "base_uri": "https://localhost:8080/",
          "height": 207
        },
        "outputId": "e482d04f-2070-44f4-d3af-04903eb9a72b"
      },
      "outputs": [
        {
          "output_type": "error",
          "ename": "NameError",
          "evalue": "ignored",
          "traceback": [
            "\u001b[0;31m---------------------------------------------------------------------------\u001b[0m",
            "\u001b[0;31mNameError\u001b[0m                                 Traceback (most recent call last)",
            "\u001b[0;32m<ipython-input-15-ea660741488a>\u001b[0m in \u001b[0;36m<module>\u001b[0;34m\u001b[0m\n\u001b[1;32m      2\u001b[0m \u001b[0mclf_perceptron\u001b[0m \u001b[0;34m=\u001b[0m \u001b[0mclf_perceptron\u001b[0m\u001b[0;34m.\u001b[0m\u001b[0mfit\u001b[0m\u001b[0;34m(\u001b[0m\u001b[0mX_train_np\u001b[0m\u001b[0;34m,\u001b[0m \u001b[0my_train_np\u001b[0m\u001b[0;34m)\u001b[0m\u001b[0;34m\u001b[0m\u001b[0;34m\u001b[0m\u001b[0m\n\u001b[1;32m      3\u001b[0m \u001b[0my_pred_perceptron\u001b[0m \u001b[0;34m=\u001b[0m \u001b[0mclf_perceptron\u001b[0m\u001b[0;34m.\u001b[0m\u001b[0mpredict\u001b[0m\u001b[0;34m(\u001b[0m\u001b[0mX_test_np\u001b[0m\u001b[0;34m)\u001b[0m\u001b[0;34m\u001b[0m\u001b[0;34m\u001b[0m\u001b[0m\n\u001b[0;32m----> 4\u001b[0;31m \u001b[0mgenerate_report\u001b[0m\u001b[0;34m(\u001b[0m\u001b[0my_test_np\u001b[0m\u001b[0;34m,\u001b[0m \u001b[0my_pred_perceptron\u001b[0m\u001b[0;34m)\u001b[0m\u001b[0;34m\u001b[0m\u001b[0;34m\u001b[0m\u001b[0m\n\u001b[0m",
            "\u001b[0;31mNameError\u001b[0m: name 'generate_report' is not defined"
          ]
        }
      ],
      "source": [
        "clf_perceptron = Perceptron()\n",
        "clf_perceptron = clf_perceptron.fit(X_train_np, y_train_np)\n",
        "y_pred_perceptron = clf_perceptron.predict(X_test_np)\n",
        "generate_report(y_test_np, y_pred_perceptron)"
      ]
    },
    {
      "cell_type": "markdown",
      "metadata": {
        "id": "R86eteEjui1i"
      },
      "source": [
        "####Train Linear SVC"
      ]
    },
    {
      "cell_type": "code",
      "execution_count": null,
      "metadata": {
        "id": "HIOVPay6ul8Y",
        "colab": {
          "base_uri": "https://localhost:8080/"
        },
        "outputId": "b45b9b55-b3ed-4d60-939e-9964bc84eb17"
      },
      "outputs": [
        {
          "output_type": "stream",
          "name": "stdout",
          "text": [
            "Class 1 Precision: 0.6570754716981132, Class 1 Recall: 0.6944167497507477, Class 1 f1-score: 0.6752302472127969\n",
            "Class 2 Precision: 0.5934065934065934, Class 2 Recall: 0.5480198019801981, Class 2 f1-score: 0.5698108351563507\n",
            "Class 3 Precision: 0.713220675944334, Class 3 Recall: 0.7278721785442557, Class 3 f1-score: 0.7204719467804696\n",
            "Average Precision: 0.6545675803496802, Averagage Recall: 0.6567695767584005, Averagage f1-score: 0.655171009716539\n",
            "\n",
            "\n"
          ]
        }
      ],
      "source": [
        "clf_linear_svc = LinearSVC()\n",
        "clf_linear_svc = clf_linear_svc.fit(X_train_np, y_train_np)\n",
        "y_pred_linear_svc = clf_linear_svc.predict(X_test_np)\n",
        "generate_report(y_test_np, y_pred_linear_svc)"
      ]
    },
    {
      "cell_type": "markdown",
      "metadata": {
        "id": "xgUpxydewA8S"
      },
      "source": [
        "##Read Cache"
      ]
    },
    {
      "cell_type": "code",
      "execution_count": 1,
      "metadata": {
        "id": "d-U7U5GrF4JF",
        "colab": {
          "base_uri": "https://localhost:8080/"
        },
        "outputId": "48bfa3f3-d5bd-414b-8e75-33d9576d2dc0"
      },
      "outputs": [
        {
          "output_type": "stream",
          "name": "stdout",
          "text": [
            "Mounted at /content/drive\n"
          ]
        }
      ],
      "source": [
        "from google.colab import drive\n",
        "import numpy as np\n",
        "drive.mount(\"/content/drive\", force_remount=True)\n",
        "\n",
        "with open('/content/drive/MyDrive/Dataset/X_train.npy', 'rb') as f:\n",
        "    X_train_np_c = np.load(f,allow_pickle=True)\n",
        "with open('/content/drive/MyDrive/Dataset/y_train.npy', 'rb') as f:\n",
        "    y_train_np_c = np.load(f, allow_pickle=True)\n",
        "with open('/content/drive/MyDrive/Dataset/X_test.npy', 'rb') as f:\n",
        "    X_test_np_c = np.load(f, allow_pickle=True)\n",
        "with open('/content/drive/MyDrive/Dataset/y_test.npy', 'rb') as f:\n",
        "    y_test_np_c = np.load(f, allow_pickle=True)  \n",
        "\n",
        "\n",
        "with open('/content/drive/MyDrive/Dataset/X_train_2.npy', 'rb') as f:\n",
        "    X_train_np_2_c = np.load(f,allow_pickle=True)\n",
        "with open('/content/drive/MyDrive/Dataset/X_test_2.npy', 'rb') as f:\n",
        "    X_test_np_2_c = np.load(f, allow_pickle=True)\n",
        "\n",
        "\n",
        "with open('/content/drive/MyDrive/Dataset/X_train_3.npy', 'rb') as f:\n",
        "    X_train_np_3_c = np.load(f,allow_pickle=True)\n",
        "with open('/content/drive/MyDrive/Dataset/X_test_3.npy', 'rb') as f:\n",
        "    X_test_np_3_c = np.load(f, allow_pickle=True)\n"
      ]
    },
    {
      "cell_type": "markdown",
      "metadata": {
        "id": "ulRHZC8pDVZG"
      },
      "source": [
        "#Task 4a"
      ]
    },
    {
      "cell_type": "markdown",
      "source": [
        "####Define functions"
      ],
      "metadata": {
        "id": "Hhwy3lA7VpCV"
      }
    },
    {
      "cell_type": "code",
      "source": [
        "# Train and Output Evaluation an MLP \n",
        "def Train_an_MLP_and_eval(input_size, hidden_1, hidden_2, use_batchnom,dropout_p, train,validation,test,lr =0.001,wd=0.0,es_num=10,num_epoch=500):\n",
        "    mlp = MLP(input_size, hidden_1, hidden_2, use_batchnom,dropout_p)\n",
        "    loss_function = nn.CrossEntropyLoss()\n",
        "    optimizer = torch.optim.RAdam(mlp.parameters(),lr=lr, weight_decay=wd)\n",
        "\n",
        "    best_loss = float('inf')\n",
        "    counter = 0\n",
        "    train_list = []\n",
        "    valid_list = []\n",
        "    test_list = []\n",
        "\n",
        "    lowest_valid_loss = float('inf')\n",
        "\n",
        "    # Training loop\n",
        "    for epoch in range(0, num_epoch): \n",
        "        train_loss = 0.0\n",
        "        print(epoch)##\n",
        "        for i, data in enumerate(train, 0):\n",
        "            inputs, targets = data\n",
        "          \n",
        "            optimizer.zero_grad()\n",
        "            outputs = mlp(inputs)\n",
        "            targets = targets.type(torch.LongTensor)\n",
        "            loss = loss_function(outputs, targets)\n",
        "            loss.backward()\n",
        "            optimizer.step()\n",
        "            train_loss += loss.item()\n",
        "        \n",
        "        # record train loss\n",
        "        train_list.append(train_loss / len(train))\n",
        "\n",
        "        # record validation loss\n",
        "        valid_loss = 0.0\n",
        "        mlp.eval()  \n",
        "        for i, data in enumerate(validation, 0):\n",
        "            inputs, targets = data\n",
        "            outputs = mlp(inputs)\n",
        "            targets = targets.type(torch.LongTensor)\n",
        "            loss = loss_function(outputs, targets)\n",
        "            valid_loss += loss.item()\n",
        "        valid_list.append(valid_loss / len(validation))\n",
        "        \n",
        "        # update lowest validation loss\n",
        "        if lowest_valid_loss > valid_loss / len(validation):\n",
        "            lowest_valid_loss = valid_loss / len(validation)\n",
        "\n",
        "        # record test loss\n",
        "        mlp.eval()  \n",
        "        testing_loss = 0.0\n",
        "        with torch.no_grad():\n",
        "            for data, target in test:\n",
        "                output = mlp(data)\n",
        "                target = target.type(torch.LongTensor)\n",
        "                loss = loss_function(output, target)\n",
        "                testing_loss += loss.item() * data.size(0)\n",
        "        testing_loss /= len(test.dataset)\n",
        "        test_list.append(testing_loss)\n",
        "\n",
        "        # early stopping\n",
        "        if valid_loss < best_loss:\n",
        "            best_loss = valid_loss\n",
        "            counter = 0\n",
        "            torch.save(mlp.state_dict(), 'best_model.pt')\n",
        "        else:\n",
        "            counter += 1\n",
        "            if counter >= es_num:\n",
        "                print(\"Early stopping\")\n",
        "                break\n",
        "\n",
        "    print(\"Lowest Valid Loss = \" + str(lowest_valid_loss))\n",
        "    \n",
        "    # Use the best model obtained from the early stopping process\n",
        "    mlp.load_state_dict(torch.load('best_model.pt'))\n",
        "    plot_loss(train_list, test_list, valid_list)    \n",
        "    test_acc(mlp, test)\n"
      ],
      "metadata": {
        "id": "DdbpFIHv78aE"
      },
      "execution_count": 10,
      "outputs": []
    },
    {
      "cell_type": "code",
      "source": [
        "import torch\n",
        "from torch import nn\n",
        "from torch.nn import functional as F\n",
        "from torch.utils.data import DataLoader,TensorDataset,random_split\n",
        "from torchvision import transforms,datasets\n",
        "import matplotlib.pyplot as plt\n",
        "\n",
        "\n",
        "def test_acc(model, dataloader):\n",
        "    model.eval()\n",
        "    \n",
        "    correct = 0\n",
        "    total = 0\n",
        "    with torch.no_grad():\n",
        "        for data, labels in dataloader:\n",
        "            outputs = model(data)\n",
        "            # Calculate the predicted labels\n",
        "            _, predicted = torch.max(outputs.data, 1)\n",
        "            total += labels.size(0)\n",
        "            correct += (predicted == labels).sum().item()  \n",
        "    accuracy = 100 * correct / total      \n",
        "    print('Test accuracy: {:.16f}%'.format(accuracy))\n",
        "\n",
        "def plot_loss(train_loss, test_loss, val_loss):\n",
        "    epochs = len(train_loss)\n",
        "    x = range(epochs)\n",
        "\n",
        "    plt.plot(x, train_loss, label='Training Loss')\n",
        "    plt.plot(x, test_loss, label='Testing Loss')\n",
        "    plt.plot(x, val_loss, label='Validation Loss')\n",
        "\n",
        "    plt.xlabel('Epoch')\n",
        "    plt.ylabel('Loss')\n",
        "    plt.legend()\n",
        "    plt.show()\n"
      ],
      "metadata": {
        "id": "_c0tOtRi6zoi"
      },
      "execution_count": 4,
      "outputs": []
    },
    {
      "cell_type": "markdown",
      "metadata": {
        "id": "vhg2zR1HXgSc"
      },
      "source": [
        "####Setup Dataloaders for Task 4a and 4b"
      ]
    },
    {
      "cell_type": "code",
      "execution_count": 6,
      "metadata": {
        "id": "H_fYexDyPon_",
        "colab": {
          "base_uri": "https://localhost:8080/"
        },
        "outputId": "7c9913f8-0106-41a0-818e-47a33c4b24b1"
      },
      "outputs": [
        {
          "output_type": "stream",
          "name": "stdout",
          "text": [
            "Using cuda device\n"
          ]
        }
      ],
      "source": [
        "device = \"cuda\" if torch.cuda.is_available() else \"cpu\"\n",
        "print(f\"Using {device} device\")\n",
        "\n",
        "#####   Dataloaders for task 4a #####\n",
        "BATCH_SIZE = 64\n",
        "X_train_tensor = torch.Tensor(X_train_np_c)\n",
        "X_test_tensor  = torch.Tensor(X_test_np_c)\n",
        "y_train_tensor = torch.Tensor(y_train_np_c)\n",
        "y_test_tensor = torch.Tensor(y_test_np_c)\n",
        "\n",
        "train_dataset = TensorDataset(X_train_tensor,y_train_tensor)\n",
        "test_dataset = TensorDataset(X_test_tensor,y_test_tensor)\n",
        "\n",
        "train_dataset, validation_dataset = random_split(train_dataset,[0.9,0.1])\n",
        "\n",
        "train_dataloader = DataLoader(train_dataset, batch_size=BATCH_SIZE, shuffle=True) \n",
        "test_dataloader = DataLoader(test_dataset, batch_size=BATCH_SIZE, shuffle=True) \n",
        "validation_dataloader = DataLoader(validation_dataset, batch_size=BATCH_SIZE, shuffle=True) \n",
        "\n",
        "#####   Dataloaders for task 4b #####\n",
        "BATCH_SIZE_2 = 32\n",
        "\n",
        "X_train_tensor_2 = torch.Tensor(X_train_np_2_c.astype('float32'))\n",
        "X_test_tensor_2  = torch.Tensor(X_test_np_2_c.astype('float32'))\n",
        "\n",
        "train_dataset_2 = TensorDataset(X_train_tensor_2,y_train_tensor)\n",
        "test_dataset_2 = TensorDataset(X_test_tensor_2,y_test_tensor)\n",
        "\n",
        "train_dataset_2, validation_dataset_2 = random_split(train_dataset_2,[0.9,0.1])\n",
        "\n",
        "train_dataloader_2 = DataLoader(train_dataset_2, batch_size=BATCH_SIZE_2, shuffle=True) \n",
        "test_dataloader_2 = DataLoader(test_dataset_2, batch_size=BATCH_SIZE_2, shuffle=True) \n",
        "validation_dataloader_2= DataLoader(validation_dataset_2, batch_size=BATCH_SIZE_2, shuffle=True)"
      ]
    },
    {
      "cell_type": "markdown",
      "source": [
        "####MLP constructor"
      ],
      "metadata": {
        "id": "RTmdvbCEVxrt"
      }
    },
    {
      "cell_type": "code",
      "execution_count": 13,
      "metadata": {
        "id": "hBReo9qTbskK"
      },
      "outputs": [],
      "source": [
        "class MLP(nn.Module):\n",
        "    \n",
        "    def __init__(self, input_size, hidden_1, hidden_2, use_batchnorm, dropout_p=0.0, output_size= 3):\n",
        "        super().__init__()\n",
        "\n",
        "        layers = []\n",
        "        layers.append(nn.Flatten())\n",
        "        layers.append(nn.Linear(input_size, hidden_1))\n",
        "        if use_batchnorm:\n",
        "            layers.append(nn.BatchNorm1d(hidden_1))\n",
        "        layers.append(nn.ReLU())\n",
        "        layers.append(nn.Dropout(dropout_p))\n",
        "        layers.append(nn.Linear(hidden_1, hidden_2))\n",
        "        if use_batchnorm:\n",
        "            layers.append(nn.BatchNorm1d(hidden_2))\n",
        "        layers.append(nn.ReLU())\n",
        "        layers.append(nn.Dropout(dropout_p))\n",
        "        layers.append(nn.Linear(hidden_2, output_size))\n",
        "        \n",
        "        self.layers = nn.Sequential(*layers)\n",
        "\n",
        "    def forward(self, x):\n",
        "        return self.layers(x)"
      ]
    },
    {
      "cell_type": "markdown",
      "source": [
        "####Train MLP 4a"
      ],
      "metadata": {
        "id": "rKKbI0K2V5hz"
      }
    },
    {
      "cell_type": "code",
      "execution_count": 36,
      "metadata": {
        "id": "r71car5tqg00",
        "colab": {
          "base_uri": "https://localhost:8080/",
          "height": 340
        },
        "outputId": "7af61506-3307-4908-91ca-d4b6baee6e78"
      },
      "outputs": [
        {
          "output_type": "stream",
          "name": "stdout",
          "text": [
            "0\n"
          ]
        },
        {
          "output_type": "error",
          "ename": "KeyboardInterrupt",
          "evalue": "ignored",
          "traceback": [
            "\u001b[0;31m---------------------------------------------------------------------------\u001b[0m",
            "\u001b[0;31mKeyboardInterrupt\u001b[0m                         Traceback (most recent call last)",
            "\u001b[0;32m<ipython-input-36-695dde0cc44d>\u001b[0m in \u001b[0;36m<module>\u001b[0;34m\u001b[0m\n\u001b[0;32m----> 1\u001b[0;31m \u001b[0mTrain_an_MLP_and_eval\u001b[0m\u001b[0;34m(\u001b[0m\u001b[0;36m300\u001b[0m\u001b[0;34m,\u001b[0m\u001b[0;36m100\u001b[0m\u001b[0;34m,\u001b[0m\u001b[0;36m10\u001b[0m\u001b[0;34m,\u001b[0m\u001b[0;32mTrue\u001b[0m\u001b[0;34m,\u001b[0m\u001b[0;36m0.5\u001b[0m\u001b[0;34m,\u001b[0m\u001b[0mtrain_dataloader\u001b[0m\u001b[0;34m,\u001b[0m\u001b[0mvalidation_dataloader\u001b[0m\u001b[0;34m,\u001b[0m\u001b[0mtest_dataloader\u001b[0m\u001b[0;34m,\u001b[0m\u001b[0;36m0.0001\u001b[0m\u001b[0;34m)\u001b[0m\u001b[0;34m\u001b[0m\u001b[0;34m\u001b[0m\u001b[0m\n\u001b[0m",
            "\u001b[0;32m<ipython-input-35-db1d7a6740df>\u001b[0m in \u001b[0;36mTrain_an_MLP_and_eval\u001b[0;34m(input_size, hidden_1, hidden_2, use_batchnom, dropout_p, train, validation, test, lr, es_num, num_epoch)\u001b[0m\n\u001b[1;32m     25\u001b[0m             \u001b[0mloss\u001b[0m \u001b[0;34m=\u001b[0m \u001b[0mloss_function\u001b[0m\u001b[0;34m(\u001b[0m\u001b[0moutputs\u001b[0m\u001b[0;34m,\u001b[0m \u001b[0mtargets\u001b[0m\u001b[0;34m)\u001b[0m\u001b[0;34m\u001b[0m\u001b[0;34m\u001b[0m\u001b[0m\n\u001b[1;32m     26\u001b[0m             \u001b[0mloss\u001b[0m\u001b[0;34m.\u001b[0m\u001b[0mbackward\u001b[0m\u001b[0;34m(\u001b[0m\u001b[0;34m)\u001b[0m\u001b[0;34m\u001b[0m\u001b[0;34m\u001b[0m\u001b[0m\n\u001b[0;32m---> 27\u001b[0;31m             \u001b[0moptimizer\u001b[0m\u001b[0;34m.\u001b[0m\u001b[0mstep\u001b[0m\u001b[0;34m(\u001b[0m\u001b[0;34m)\u001b[0m\u001b[0;34m\u001b[0m\u001b[0;34m\u001b[0m\u001b[0m\n\u001b[0m\u001b[1;32m     28\u001b[0m             \u001b[0mtrain_loss\u001b[0m \u001b[0;34m+=\u001b[0m \u001b[0mloss\u001b[0m\u001b[0;34m.\u001b[0m\u001b[0mitem\u001b[0m\u001b[0;34m(\u001b[0m\u001b[0;34m)\u001b[0m\u001b[0;34m\u001b[0m\u001b[0;34m\u001b[0m\u001b[0m\n\u001b[1;32m     29\u001b[0m \u001b[0;34m\u001b[0m\u001b[0m\n",
            "\u001b[0;32m/usr/local/lib/python3.8/dist-packages/torch/optim/optimizer.py\u001b[0m in \u001b[0;36mwrapper\u001b[0;34m(*args, **kwargs)\u001b[0m\n\u001b[1;32m    138\u001b[0m                 \u001b[0mprofile_name\u001b[0m \u001b[0;34m=\u001b[0m \u001b[0;34m\"Optimizer.step#{}.step\"\u001b[0m\u001b[0;34m.\u001b[0m\u001b[0mformat\u001b[0m\u001b[0;34m(\u001b[0m\u001b[0mobj\u001b[0m\u001b[0;34m.\u001b[0m\u001b[0m__class__\u001b[0m\u001b[0;34m.\u001b[0m\u001b[0m__name__\u001b[0m\u001b[0;34m)\u001b[0m\u001b[0;34m\u001b[0m\u001b[0;34m\u001b[0m\u001b[0m\n\u001b[1;32m    139\u001b[0m                 \u001b[0;32mwith\u001b[0m \u001b[0mtorch\u001b[0m\u001b[0;34m.\u001b[0m\u001b[0mautograd\u001b[0m\u001b[0;34m.\u001b[0m\u001b[0mprofiler\u001b[0m\u001b[0;34m.\u001b[0m\u001b[0mrecord_function\u001b[0m\u001b[0;34m(\u001b[0m\u001b[0mprofile_name\u001b[0m\u001b[0;34m)\u001b[0m\u001b[0;34m:\u001b[0m\u001b[0;34m\u001b[0m\u001b[0;34m\u001b[0m\u001b[0m\n\u001b[0;32m--> 140\u001b[0;31m                     \u001b[0mout\u001b[0m \u001b[0;34m=\u001b[0m \u001b[0mfunc\u001b[0m\u001b[0;34m(\u001b[0m\u001b[0;34m*\u001b[0m\u001b[0margs\u001b[0m\u001b[0;34m,\u001b[0m \u001b[0;34m**\u001b[0m\u001b[0mkwargs\u001b[0m\u001b[0;34m)\u001b[0m\u001b[0;34m\u001b[0m\u001b[0;34m\u001b[0m\u001b[0m\n\u001b[0m\u001b[1;32m    141\u001b[0m                     \u001b[0mobj\u001b[0m\u001b[0;34m.\u001b[0m\u001b[0m_optimizer_step_code\u001b[0m\u001b[0;34m(\u001b[0m\u001b[0;34m)\u001b[0m\u001b[0;34m\u001b[0m\u001b[0;34m\u001b[0m\u001b[0m\n\u001b[1;32m    142\u001b[0m                     \u001b[0;32mreturn\u001b[0m \u001b[0mout\u001b[0m\u001b[0;34m\u001b[0m\u001b[0;34m\u001b[0m\u001b[0m\n",
            "\u001b[0;32m/usr/local/lib/python3.8/dist-packages/torch/autograd/grad_mode.py\u001b[0m in \u001b[0;36mdecorate_context\u001b[0;34m(*args, **kwargs)\u001b[0m\n\u001b[1;32m     25\u001b[0m         \u001b[0;32mdef\u001b[0m \u001b[0mdecorate_context\u001b[0m\u001b[0;34m(\u001b[0m\u001b[0;34m*\u001b[0m\u001b[0margs\u001b[0m\u001b[0;34m,\u001b[0m \u001b[0;34m**\u001b[0m\u001b[0mkwargs\u001b[0m\u001b[0;34m)\u001b[0m\u001b[0;34m:\u001b[0m\u001b[0;34m\u001b[0m\u001b[0;34m\u001b[0m\u001b[0m\n\u001b[1;32m     26\u001b[0m             \u001b[0;32mwith\u001b[0m \u001b[0mself\u001b[0m\u001b[0;34m.\u001b[0m\u001b[0mclone\u001b[0m\u001b[0;34m(\u001b[0m\u001b[0;34m)\u001b[0m\u001b[0;34m:\u001b[0m\u001b[0;34m\u001b[0m\u001b[0;34m\u001b[0m\u001b[0m\n\u001b[0;32m---> 27\u001b[0;31m                 \u001b[0;32mreturn\u001b[0m \u001b[0mfunc\u001b[0m\u001b[0;34m(\u001b[0m\u001b[0;34m*\u001b[0m\u001b[0margs\u001b[0m\u001b[0;34m,\u001b[0m \u001b[0;34m**\u001b[0m\u001b[0mkwargs\u001b[0m\u001b[0;34m)\u001b[0m\u001b[0;34m\u001b[0m\u001b[0;34m\u001b[0m\u001b[0m\n\u001b[0m\u001b[1;32m     28\u001b[0m         \u001b[0;32mreturn\u001b[0m \u001b[0mcast\u001b[0m\u001b[0;34m(\u001b[0m\u001b[0mF\u001b[0m\u001b[0;34m,\u001b[0m \u001b[0mdecorate_context\u001b[0m\u001b[0;34m)\u001b[0m\u001b[0;34m\u001b[0m\u001b[0;34m\u001b[0m\u001b[0m\n\u001b[1;32m     29\u001b[0m \u001b[0;34m\u001b[0m\u001b[0m\n",
            "\u001b[0;32m/usr/local/lib/python3.8/dist-packages/torch/optim/radam.py\u001b[0m in \u001b[0;36mstep\u001b[0;34m(self, closure)\u001b[0m\n\u001b[1;32m    128\u001b[0m                     \u001b[0mstate_steps\u001b[0m\u001b[0;34m.\u001b[0m\u001b[0mappend\u001b[0m\u001b[0;34m(\u001b[0m\u001b[0mstate\u001b[0m\u001b[0;34m[\u001b[0m\u001b[0;34m'step'\u001b[0m\u001b[0;34m]\u001b[0m\u001b[0;34m)\u001b[0m\u001b[0;34m\u001b[0m\u001b[0;34m\u001b[0m\u001b[0m\n\u001b[1;32m    129\u001b[0m \u001b[0;34m\u001b[0m\u001b[0m\n\u001b[0;32m--> 130\u001b[0;31m             radam(params_with_grad,\n\u001b[0m\u001b[1;32m    131\u001b[0m                   \u001b[0mgrads\u001b[0m\u001b[0;34m,\u001b[0m\u001b[0;34m\u001b[0m\u001b[0;34m\u001b[0m\u001b[0m\n\u001b[1;32m    132\u001b[0m                   \u001b[0mexp_avgs\u001b[0m\u001b[0;34m,\u001b[0m\u001b[0;34m\u001b[0m\u001b[0;34m\u001b[0m\u001b[0m\n",
            "\u001b[0;32m/usr/local/lib/python3.8/dist-packages/torch/optim/radam.py\u001b[0m in \u001b[0;36mradam\u001b[0;34m(params, grads, exp_avgs, exp_avg_sqs, state_steps, foreach, beta1, beta2, lr, weight_decay, eps)\u001b[0m\n\u001b[1;32m    177\u001b[0m         \u001b[0mfunc\u001b[0m \u001b[0;34m=\u001b[0m \u001b[0m_single_tensor_radam\u001b[0m\u001b[0;34m\u001b[0m\u001b[0;34m\u001b[0m\u001b[0m\n\u001b[1;32m    178\u001b[0m \u001b[0;34m\u001b[0m\u001b[0m\n\u001b[0;32m--> 179\u001b[0;31m     func(params,\n\u001b[0m\u001b[1;32m    180\u001b[0m          \u001b[0mgrads\u001b[0m\u001b[0;34m,\u001b[0m\u001b[0;34m\u001b[0m\u001b[0;34m\u001b[0m\u001b[0m\n\u001b[1;32m    181\u001b[0m          \u001b[0mexp_avgs\u001b[0m\u001b[0;34m,\u001b[0m\u001b[0;34m\u001b[0m\u001b[0;34m\u001b[0m\u001b[0m\n",
            "\u001b[0;32m/usr/local/lib/python3.8/dist-packages/torch/optim/radam.py\u001b[0m in \u001b[0;36m_single_tensor_radam\u001b[0;34m(params, grads, exp_avgs, exp_avg_sqs, state_steps, beta1, beta2, lr, weight_decay, eps)\u001b[0m\n\u001b[1;32m    218\u001b[0m         \u001b[0;31m# Decay the first and second moment running average coefficient\u001b[0m\u001b[0;34m\u001b[0m\u001b[0;34m\u001b[0m\u001b[0;34m\u001b[0m\u001b[0m\n\u001b[1;32m    219\u001b[0m         \u001b[0mexp_avg\u001b[0m\u001b[0;34m.\u001b[0m\u001b[0mmul_\u001b[0m\u001b[0;34m(\u001b[0m\u001b[0mbeta1\u001b[0m\u001b[0;34m)\u001b[0m\u001b[0;34m.\u001b[0m\u001b[0madd_\u001b[0m\u001b[0;34m(\u001b[0m\u001b[0mgrad\u001b[0m\u001b[0;34m,\u001b[0m \u001b[0malpha\u001b[0m\u001b[0;34m=\u001b[0m\u001b[0;36m1\u001b[0m \u001b[0;34m-\u001b[0m \u001b[0mbeta1\u001b[0m\u001b[0;34m)\u001b[0m\u001b[0;34m\u001b[0m\u001b[0;34m\u001b[0m\u001b[0m\n\u001b[0;32m--> 220\u001b[0;31m         \u001b[0mexp_avg_sq\u001b[0m\u001b[0;34m.\u001b[0m\u001b[0mmul_\u001b[0m\u001b[0;34m(\u001b[0m\u001b[0mbeta2\u001b[0m\u001b[0;34m)\u001b[0m\u001b[0;34m.\u001b[0m\u001b[0maddcmul_\u001b[0m\u001b[0;34m(\u001b[0m\u001b[0mgrad\u001b[0m\u001b[0;34m,\u001b[0m \u001b[0mgrad\u001b[0m\u001b[0;34m,\u001b[0m \u001b[0mvalue\u001b[0m\u001b[0;34m=\u001b[0m\u001b[0;36m1\u001b[0m \u001b[0;34m-\u001b[0m \u001b[0mbeta2\u001b[0m\u001b[0;34m)\u001b[0m\u001b[0;34m\u001b[0m\u001b[0;34m\u001b[0m\u001b[0m\n\u001b[0m\u001b[1;32m    221\u001b[0m \u001b[0;34m\u001b[0m\u001b[0m\n\u001b[1;32m    222\u001b[0m         \u001b[0;31m# correcting bias for the first moving moment\u001b[0m\u001b[0;34m\u001b[0m\u001b[0;34m\u001b[0m\u001b[0;34m\u001b[0m\u001b[0m\n",
            "\u001b[0;31mKeyboardInterrupt\u001b[0m: "
          ]
        }
      ],
      "source": [
        "Train_an_MLP_and_eval(300,100,10,True,0.5,train_dataloader,validation_dataloader,test_dataloader,wd=0.001)"
      ]
    },
    {
      "cell_type": "markdown",
      "source": [
        "#Train MLP 4b"
      ],
      "metadata": {
        "id": "DVtSotCOrAwE"
      }
    },
    {
      "cell_type": "code",
      "source": [
        "Train_an_MLP_and_eval(3000,100,10,True,0.5,train_dataloader_2,validation_dataloader_2,test_dataloader_2,wd = 0.01)"
      ],
      "metadata": {
        "id": "-khD3tmcjn2j",
        "colab": {
          "base_uri": "https://localhost:8080/",
          "height": 860
        },
        "outputId": "40e0b345-c798-43a4-de42-e7512af3a95a"
      },
      "execution_count": 15,
      "outputs": [
        {
          "output_type": "stream",
          "name": "stdout",
          "text": [
            "0\n",
            "1\n",
            "2\n",
            "3\n",
            "4\n",
            "5\n",
            "6\n",
            "7\n",
            "8\n",
            "9\n",
            "10\n",
            "11\n",
            "12\n",
            "13\n",
            "14\n",
            "15\n",
            "16\n",
            "17\n",
            "18\n",
            "19\n",
            "20\n",
            "21\n",
            "22\n",
            "23\n",
            "24\n",
            "25\n",
            "26\n",
            "27\n",
            "28\n",
            "Early stopping\n",
            "Lowest Valid Loss = 0.8917805906136831\n"
          ]
        },
        {
          "output_type": "display_data",
          "data": {
            "text/plain": [
              "<Figure size 432x288 with 1 Axes>"
            ],
            "image/png": "[encoded data removed]"
          },
          "metadata": {
            "needs_background": "light"
          }
        },
        {
          "output_type": "stream",
          "name": "stdout",
          "text": [
            "Test accuracy: 57.1571488120050049%\n"
          ]
        }
      ]
    },
    {
      "cell_type": "markdown",
      "source": [
        "# Task 5"
      ],
      "metadata": {
        "id": "zNYqnVUkmHxn"
      }
    },
    {
      "cell_type": "markdown",
      "source": [
        "####Prepare Dataloaders for RNNs"
      ],
      "metadata": {
        "id": "TxBlNCjcDehN"
      }
    },
    {
      "cell_type": "code",
      "source": [
        "BATCH_SIZE_3 = 32\n",
        "\n",
        "X_train_tensor_3 = torch.Tensor(X_train_np_3_c.astype('float32'))\n",
        "X_test_tensor_3  = torch.Tensor(X_test_np_3_c.astype('float32'))\n",
        "\n",
        "train_dataset_3 = TensorDataset(X_train_tensor_3,y_train_tensor)\n",
        "test_dataset_3 = TensorDataset(X_test_tensor_3,y_test_tensor)\n",
        "\n",
        "train_dataset_3, validation_dataset_3 = random_split(train_dataset_3,[0.9,0.1])\n",
        "\n",
        "train_dataloader_3 = DataLoader(train_dataset_3, batch_size=BATCH_SIZE_3, shuffle=True) \n",
        "test_dataloader_3 = DataLoader(test_dataset_3, batch_size=BATCH_SIZE_3, shuffle=True) \n",
        "validation_dataloader_3= DataLoader(validation_dataset_3, batch_size=BATCH_SIZE_3, shuffle=True)\n"
      ],
      "metadata": {
        "id": "diajJR5AIUU4"
      },
      "execution_count": 73,
      "outputs": []
    },
    {
      "cell_type": "markdown",
      "source": [
        "####Simple RNN Constructor for Task 5a"
      ],
      "metadata": {
        "id": "oZWk2uxdlHAi"
      }
    },
    {
      "cell_type": "code",
      "source": [
        "class RNN(nn.Module):\n",
        "    def __init__(self, input_dim, hid_dim, output_dim):\n",
        "        super(RNN, self).__init__()\n",
        "        self.rnn = nn.RNN(input_dim, hid_dim, batch_first=True)\n",
        "        self.fc = nn.Linear(hid_dim, output_dim)\n",
        "\n",
        "    def forward(self, x):\n",
        "        _, hidden = self.rnn(x)\n",
        "        out = self.fc(hidden.squeeze(0))\n",
        "        return out\n",
        "\n",
        "class GRU(nn.Module):\n",
        "    def __init__(self, input_dim, hid_dim, output_dim, dropout=0.5, recurrent_dropout=0.2):\n",
        "        super(GRU, self).__init__()\n",
        "        self.gru = nn.GRU(input_dim, hid_dim, batch_first=True, dropout=dropout, num_layers=3, bidirectional=True)\n",
        "        self.fc = nn.Linear(hid_dim * 2 , output_dim)\n",
        "\n",
        "    def forward(self, x):\n",
        "        # x.shape = (batch_size, seq_len, input_dim)\n",
        "        output, hidden = self.gru(x)\n",
        "        # output.shape = (batch_size, seq_len, hid_dim * 2)\n",
        "        # hidden.shape = (4, batch_size, hid_dim)\n",
        "\n",
        "        # average across the sequence length\n",
        "        output = torch.mean(output, dim=1)\n",
        "        # output.shape = (batch_size, hid_dim * 2)\n",
        "\n",
        "        out = self.fc(output)\n",
        "        # out.shape = (batch_size, output_dim)\n",
        "\n",
        "        return out\n"
      ],
      "metadata": {
        "id": "lZt2rhIYM0C2"
      },
      "execution_count": 95,
      "outputs": []
    },
    {
      "cell_type": "code",
      "source": [
        "rnn = RNN(300, 20, 3)\n",
        "gru = GRU(300, 20, 3)\n",
        "\n",
        "loss_function = nn.CrossEntropyLoss()\n",
        "optimizer = torch.optim.RAdam(gru.parameters())\n",
        "\n",
        "best_loss = float('inf')\n",
        "counter = 0\n",
        "train_list = []\n",
        "valid_list = []\n",
        "test_list = []\n",
        "lowest_valid_loss = float('inf')\n",
        "\n",
        "num_epochs = 100\n",
        "for epoch in range(0,num_epochs):\n",
        "    print(epoch)\n",
        "    train_loss = 0.0\n",
        "    for i, batch in enumerate(train_dataloader_3, 0):\n",
        "        # Get the input and target tensors from the batch\n",
        "        inputs, targets = batch\n",
        "        optimizer.zero_grad()\n",
        "        outputs = gru(inputs)\n",
        "        #targets = torch.eye(3)[targets.long()] ########### For gru\n",
        "        targets = targets.type(torch.LongTensor)\n",
        "        loss = loss_function(outputs, targets)\n",
        "        loss.backward()\n",
        "        optimizer.step()\n",
        "        train_loss += loss.item()\n",
        "    \n",
        "    # record train loss\n",
        "    train_list.append(train_loss / len(train_dataloader_3))\n",
        "\n",
        "    # record validation loss\n",
        "    valid_loss = 0.0\n",
        "    gru.eval()  \n",
        "    for i, data in enumerate(validation_dataloader_3, 0):\n",
        "        inputs, targets = data\n",
        "        outputs = gru(inputs)\n",
        "        targets = targets.type(torch.LongTensor)\n",
        "        loss = loss_function(outputs, targets)\n",
        "        valid_loss += loss.item()\n",
        "    valid_list.append(valid_loss / len(validation_dataloader_3))\n",
        "    print(valid_loss / len(validation_dataloader_3))\n",
        "    # update lowest validation loss\n",
        "    if lowest_valid_loss > valid_loss / len(validation_dataloader_3):\n",
        "        lowest_valid_loss = valid_loss / len(validation_dataloader_3)\n",
        "\n",
        "     # record test loss\n",
        "    gru.eval()  \n",
        "    testing_loss = 0.0\n",
        "    with torch.no_grad():\n",
        "        for data, target in test_dataloader_3:\n",
        "            output = gru(data)\n",
        "            target = target.type(torch.LongTensor)\n",
        "            loss = loss_function(output, target)\n",
        "            testing_loss += loss.item() * data.size(0)\n",
        "    testing_loss /= len(test_dataloader_3.dataset)\n",
        "    test_list.append(testing_loss)\n",
        "\n",
        "    # early stopping\n",
        "    if valid_loss < best_loss:\n",
        "        best_loss = valid_loss\n",
        "        counter = 0\n",
        "        torch.save(gru.state_dict(), 'best_model.pt')\n",
        "    else:\n",
        "        counter += 1\n",
        "        if counter >= 10:\n",
        "            print(\"Early stopping\")\n",
        "            break\n",
        "\n",
        "print(\"Lowest Valid Loss = \" + str(lowest_valid_loss)) \n",
        "# Use the best model obtained from the early stopping process\n",
        "gru.load_state_dict(torch.load('best_model.pt'))\n",
        "plot_loss(train_list, test_list, valid_list)    \n",
        "test_acc(gru, test_dataloader_3)"
      ],
      "metadata": {
        "colab": {
          "base_uri": "https://localhost:8080/",
          "height": 951
        },
        "id": "0QmpZy5DRwiw",
        "outputId": "7d4674b8-7bac-45a6-fd8a-201c72913669"
      },
      "execution_count": 96,
      "outputs": [
        {
          "output_type": "stream",
          "name": "stdout",
          "text": [
            "0\n",
            "0.8612276494503022\n",
            "1\n",
            "0.817803579568863\n",
            "2\n",
            "0.7883851397037506\n",
            "3\n",
            "0.7646399819850922\n",
            "4\n",
            "0.7487832353512446\n",
            "5\n",
            "0.7456901339689891\n",
            "6\n",
            "0.7374881166219711\n",
            "7\n",
            "0.7841561663150788\n",
            "8\n",
            "0.7446760529279709\n",
            "9\n",
            "0.7630399753650029\n",
            "10\n",
            "0.7623692733049393\n",
            "11\n",
            "0.7749565668900807\n",
            "12\n",
            "0.7710569697618485\n",
            "13\n",
            "0.7956694318850835\n",
            "14\n",
            "0.8238165672620138\n",
            "15\n",
            "0.8200505179166794\n",
            "16\n",
            "0.8539878726005554\n",
            "Early stopping\n",
            "Lowest Valid Loss = 0.7374881166219711\n"
          ]
        },
        {
          "output_type": "display_data",
          "data": {
            "text/plain": [
              "<Figure size 432x288 with 1 Axes>"
            ],
            "image/png": "[encoded data removed]"
          },
          "metadata": {
            "needs_background": "light"
          }
        },
        {
          "output_type": "stream",
          "name": "stdout",
          "text": [
            "Test accuracy: 67.3947478115881609%\n"
          ]
        }
      ]
    },
    {
      "cell_type": "markdown",
      "source": [
        "####GRU Constructor for Task 5b"
      ],
      "metadata": {
        "id": "66vyKCSMlL1C"
      }
    },
    {
      "cell_type": "markdown",
      "source": [
        "#Hyper Tuning"
      ],
      "metadata": {
        "id": "miMjGC2603lr"
      }
    },
    {
      "cell_type": "code",
      "source": [
        "\"\"\"\n",
        "def grid_search(train_dataloader, validation_dataloader, test_dataloader, learning_rate_list, weight_decay_list, dropout_p_list, use_bn_list, activation_list):\n",
        "    best_loss = float('inf')\n",
        "    best_lr = None\n",
        "    best_wd = None\n",
        "    best_dp = None\n",
        "    best_bn = None\n",
        "    best_activation = None\n",
        "    \n",
        "    for lr in learning_rate_list:\n",
        "        for wd in weight_decay_list:\n",
        "            for dp in dropout_p_list:\n",
        "                for bn in use_bn_list:\n",
        "                    for activation in activation_list:\n",
        "                        mlp = MLP2(dropout_p=dp, use_bn=bn, activation=activation)\n",
        "                        loss_function = nn.CrossEntropyLoss()\n",
        "                        optimizer = torch.optim.RAdam(mlp.parameters(), lr=lr, weight_decay=wd)\n",
        "\n",
        "                        train_list = []\n",
        "                        valid_list = []\n",
        "                        test_list = []\n",
        "\n",
        "                        patience = 10\n",
        "                        counter = 0\n",
        "                        lowest_valid_loss = 100\n",
        "\n",
        "                        for epoch in range(0, 1000):\n",
        "                            train_loss = 0.0\n",
        "                            for i, data in enumerate(train_dataloader, 0):\n",
        "                                inputs, targets = data\n",
        "\n",
        "                                optimizer.zero_grad()\n",
        "                                outputs = mlp(inputs)\n",
        "                                targets = targets.type(torch.LongTensor)\n",
        "                                loss = loss_function(outputs, targets)\n",
        "                                loss.backward()\n",
        "                                optimizer.step()\n",
        "                                train_loss += loss.item()\n",
        "\n",
        "                            # record train loss\n",
        "                            train_list.append(train_loss / len(train_dataloader))\n",
        "\n",
        "                            # record validation loss\n",
        "                            valid_loss = 0.0\n",
        "                            mlp.eval()\n",
        "                            for i, data in enumerate(validation_dataloader, 0):\n",
        "                                inputs, targets = data\n",
        "                                outputs = mlp(inputs)\n",
        "                                targets = targets.type(torch.LongTensor)\n",
        "                                loss = loss_function(outputs, targets)\n",
        "                                valid_loss += loss.item()\n",
        "                            valid_list.append(valid_loss / len(validation_dataloader))\n",
        "\n",
        "                            # record test loss\n",
        "                            mlp.eval()\n",
        "                            testing_loss = 0.0\n",
        "                            with torch.no_grad():\n",
        "                                for data, target in test_dataloader:\n",
        "                                    output = mlp(data)\n",
        "                                    target = target.type(torch.LongTensor)\n",
        "                                    loss = loss_function(output, target)\n",
        "                                    testing_loss += loss.item() * data.size(0)\n",
        "\n",
        "                            testing_loss /= len(test_dataloader.dataset)\n",
        "                            test_list.append(testing_loss)\n",
        "\n",
        "                            # early stopping\n",
        "                            if valid_loss / len(validation_dataloader) < best_loss:\n",
        "                                best_loss = valid_loss / len(validation_dataloader)\n",
        "                                best_lr = lr\n",
        "                                best_wd = wd\n",
        "                                best_dp = dp\n",
        "                                best_bn = bn\n",
        "                                best_activation = activation\n",
        "                                counter = 0\n",
        "                                torch.save(mlp.state_dict(), 'best_model.pt')\n",
        "                            else:\n",
        "                                counter += 1\n",
        "                                if counter >= patience:\n",
        "                                    break\n",
        "\n",
        "                        # Use the best model obtained from the early stopping process\n",
        "                        mlp.load_state_dict(torch.load('best_model.pt'))\n",
        "\n",
        "\n",
        "    print(\"Grid search finished.\")\n",
        "    print(f\"Best hyperparameters: lr={best_lr}, wd={best_wd}, dp={best_dp}, bn={best_bn}, activation={best_activation}\")\n",
        "    print(f\"Best validation loss: {best_loss}\")\n",
        "    print(f\"Test accuracy: {test_acc(mlp, test_dataloader)}\")\n",
        "    \"\"\"\n"
      ],
      "metadata": {
        "id": "S00GTnwfKu5C",
        "colab": {
          "base_uri": "https://localhost:8080/"
        },
        "outputId": "916eadb1-05f8-4dce-991c-7157897ddc29"
      },
      "execution_count": null,
      "outputs": [
        {
          "output_type": "execute_result",
          "data": {
            "text/plain": [
              "'\\ndef grid_search(train_dataloader, validation_dataloader, test_dataloader, learning_rate_list, weight_decay_list, dropout_p_list, use_bn_list, activation_list):\\n    best_loss = float(\\'inf\\')\\n    best_lr = None\\n    best_wd = None\\n    best_dp = None\\n    best_bn = None\\n    best_activation = None\\n    \\n    for lr in learning_rate_list:\\n        for wd in weight_decay_list:\\n            for dp in dropout_p_list:\\n                for bn in use_bn_list:\\n                    for activation in activation_list:\\n                        mlp = MLP2(dropout_p=dp, use_bn=bn, activation=activation)\\n                        loss_function = nn.CrossEntropyLoss()\\n                        optimizer = torch.optim.RAdam(mlp.parameters(), lr=lr, weight_decay=wd)\\n\\n                        train_list = []\\n                        valid_list = []\\n                        test_list = []\\n\\n                        patience = 10\\n                        counter = 0\\n                        lowest_valid_loss = 100\\n\\n                        for epoch in range(0, 1000):\\n                            train_loss = 0.0\\n                            for i, data in enumerate(train_dataloader, 0):\\n                                inputs, targets = data\\n\\n                                optimizer.zero_grad()\\n                                outputs = mlp(inputs)\\n                                targets = targets.type(torch.LongTensor)\\n                                loss = loss_function(outputs, targets)\\n                                loss.backward()\\n                                optimizer.step()\\n                                train_loss += loss.item()\\n\\n                            # record train loss\\n                            train_list.append(train_loss / len(train_dataloader))\\n\\n                            # record validation loss\\n                            valid_loss = 0.0\\n                            mlp.eval()\\n                            for i, data in enumerate(validation_dataloader, 0):\\n                                inputs, targets = data\\n                                outputs = mlp(inputs)\\n                                targets = targets.type(torch.LongTensor)\\n                                loss = loss_function(outputs, targets)\\n                                valid_loss += loss.item()\\n                            valid_list.append(valid_loss / len(validation_dataloader))\\n\\n                            # record test loss\\n                            mlp.eval()\\n                            testing_loss = 0.0\\n                            with torch.no_grad():\\n                                for data, target in test_dataloader:\\n                                    output = mlp(data)\\n                                    target = target.type(torch.LongTensor)\\n                                    loss = loss_function(output, target)\\n                                    testing_loss += loss.item() * data.size(0)\\n\\n                            testing_loss /= len(test_dataloader.dataset)\\n                            test_list.append(testing_loss)\\n\\n                            # early stopping\\n                            if valid_loss / len(validation_dataloader) < best_loss:\\n                                best_loss = valid_loss / len(validation_dataloader)\\n                                best_lr = lr\\n                                best_wd = wd\\n                                best_dp = dp\\n                                best_bn = bn\\n                                best_activation = activation\\n                                counter = 0\\n                                torch.save(mlp.state_dict(), \\'best_model.pt\\')\\n                            else:\\n                                counter += 1\\n                                if counter >= patience:\\n                                    break\\n\\n                        # Use the best model obtained from the early stopping process\\n                        mlp.load_state_dict(torch.load(\\'best_model.pt\\'))\\n\\n\\n    print(\"Grid search finished.\")\\n    print(f\"Best hyperparameters: lr={best_lr}, wd={best_wd}, dp={best_dp}, bn={best_bn}, activation={best_activation}\")\\n    print(f\"Best validation loss: {best_loss}\")\\n    print(f\"Test accuracy: {test_acc(mlp, test_dataloader)}\")\\n    '"
            ],
            "application/vnd.google.colaboratory.intrinsic+json": {
              "type": "string"
            }
          },
          "metadata": {},
          "execution_count": 26
        }
      ]
    },
    {
      "cell_type": "code",
      "source": [
        "import torch\n",
        "from torch import nn\n",
        "from torch.nn import functional as F\n",
        "from torch.utils.data import DataLoader,TensorDataset,random_split\n",
        "from torchvision import transforms,datasets\n",
        "import matplotlib.pyplot as plt\n",
        "import numpy as np\n",
        "\n",
        "\"\"\"\n",
        "class MLP2(nn.Module):\n",
        "    \n",
        "    def __init__(self, dropout_p=0.5, use_bn=True, activation=\"relu\"):\n",
        "        super().__init__()\n",
        "        hidden_1 = 100\n",
        "        hidden_2 = 10\n",
        "        \n",
        "        if use_bn:\n",
        "            self.layers = nn.Sequential(\n",
        "                nn.Flatten(),\n",
        "                nn.Linear(300, hidden_1),\n",
        "                nn.BatchNorm1d(hidden_1),\n",
        "                nn.ReLU(),\n",
        "                nn.Dropout(dropout_p),\n",
        "                nn.Linear(hidden_1, hidden_2),\n",
        "                nn.BatchNorm1d(hidden_2),\n",
        "                nn.ReLU(),\n",
        "                nn.Dropout(dropout_p),\n",
        "                nn.Linear(hidden_2, 3),\n",
        "            )\n",
        "        else:\n",
        "            self.layers = nn.Sequential(\n",
        "                nn.Flatten(),\n",
        "                nn.Linear(300, hidden_1),\n",
        "                nn.ReLU(),\n",
        "                nn.Dropout(dropout_p),\n",
        "                nn.Linear(hidden_1, hidden_2),\n",
        "                nn.ReLU(),\n",
        "                nn.Dropout(dropout_p),\n",
        "                nn.Linear(hidden_2, 3),\n",
        "            )\n",
        "        \n",
        "        if activation == \"relu\":\n",
        "            self.activation = nn.ReLU()\n",
        "        elif activation == \"sigmoid\":\n",
        "            self.activation = nn.Sigmoid()\n",
        "        elif activation == \"tanh\":\n",
        "            self.activation = nn.Tanh()\n",
        "        else:\n",
        "            raise ValueError(f\"Invalid activation: {activation}\")\n",
        "\n",
        "    def forward(self, x):\n",
        "        x = self.layers(x)\n",
        "        x = self.activation(x)\n",
        "        return x\n",
        "\n",
        "learning_rate_list = [0.001]\n",
        "weight_decay_list= [0.0,0.001,0.0001]\n",
        "dropout_p_list = [0.0,0.3,0.5,0.7]\n",
        "use_bn_list = [True]\n",
        "activation_list = [\"relu\",\"sigmoid\",\"tanh\"]\n",
        "\n",
        "\n",
        "grid_search(train_dataloader, validation_dataloader, test_dataloader, learning_rate_list, weight_decay_list, dropout_p_list, use_bn_list, activation_list)\n",
        "\"\"\""
      ],
      "metadata": {
        "id": "Qkg0MNpXOm4C",
        "colab": {
          "base_uri": "https://localhost:8080/"
        },
        "outputId": "09390edc-2cc0-4330-9d29-c89017b38008"
      },
      "execution_count": null,
      "outputs": [
        {
          "output_type": "execute_result",
          "data": {
            "text/plain": [
              "'\\nclass MLP2(nn.Module):\\n    \\n    def __init__(self, dropout_p=0.5, use_bn=True, activation=\"relu\"):\\n        super().__init__()\\n        hidden_1 = 100\\n        hidden_2 = 10\\n        \\n        if use_bn:\\n            self.layers = nn.Sequential(\\n                nn.Flatten(),\\n                nn.Linear(300, hidden_1),\\n                nn.BatchNorm1d(hidden_1),\\n                nn.ReLU(),\\n                nn.Dropout(dropout_p),\\n                nn.Linear(hidden_1, hidden_2),\\n                nn.BatchNorm1d(hidden_2),\\n                nn.ReLU(),\\n                nn.Dropout(dropout_p),\\n                nn.Linear(hidden_2, 3),\\n            )\\n        else:\\n            self.layers = nn.Sequential(\\n                nn.Flatten(),\\n                nn.Linear(300, hidden_1),\\n                nn.ReLU(),\\n                nn.Dropout(dropout_p),\\n                nn.Linear(hidden_1, hidden_2),\\n                nn.ReLU(),\\n                nn.Dropout(dropout_p),\\n                nn.Linear(hidden_2, 3),\\n            )\\n        \\n        if activation == \"relu\":\\n            self.activation = nn.ReLU()\\n        elif activation == \"sigmoid\":\\n            self.activation = nn.Sigmoid()\\n        elif activation == \"tanh\":\\n            self.activation = nn.Tanh()\\n        else:\\n            raise ValueError(f\"Invalid activation: {activation}\")\\n\\n    def forward(self, x):\\n        x = self.layers(x)\\n        x = self.activation(x)\\n        return x\\n\\nlearning_rate_list = [0.001]\\nweight_decay_list= [0.0,0.001,0.0001]\\ndropout_p_list = [0.0,0.3,0.5,0.7]\\nuse_bn_list = [True]\\nactivation_list = [\"relu\",\"sigmoid\",\"tanh\"]\\n\\n\\ngrid_search(train_dataloader, validation_dataloader, test_dataloader, learning_rate_list, weight_decay_list, dropout_p_list, use_bn_list, activation_list)\\n'"
            ],
            "application/vnd.google.colaboratory.intrinsic+json": {
              "type": "string"
            }
          },
          "metadata": {},
          "execution_count": 27
        }
      ]
    }
  ],
  "metadata": {
    "accelerator": "GPU",
    "colab": {
      "collapsed_sections": [
        "miMjGC2603lr"
      ],
      "provenance": [],
      "machine_shape": "hm"
    },
    "gpuClass": "standard",
    "kernelspec": {
      "display_name": "Python 3",
      "name": "python3"
    },
    "language_info": {
      "name": "python"
    }
  },
  "nbformat": 4,
  "nbformat_minor": 0
}