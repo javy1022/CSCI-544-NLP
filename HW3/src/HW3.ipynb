{
  "cells": [
    {
      "cell_type": "markdown",
      "metadata": {
        "id": "J6uHNQo3thmc"
      },
      "source": [
        "#Import Libraries"
      ]
    },
    {
      "cell_type": "code",
      "execution_count": 1,
      "metadata": {
        "colab": {
          "base_uri": "https://localhost:8080/"
        },
        "id": "Y6aDJpCPtM3Q",
        "outputId": "c2618c08-58ad-4687-c725-d6ffb041173d"
      },
      "outputs": [
        {
          "output_type": "stream",
          "name": "stdout",
          "text": [
            "Looking in indexes: https://pypi.org/simple, https://us-python.pkg.dev/colab-wheels/public/simple/\n",
            "Collecting symspellpy\n",
            "  Downloading symspellpy-6.7.7-py3-none-any.whl (2.6 MB)\n",
            "\u001b[2K     \u001b[90m━━━━━━━━━━━━━━━━━━━━━━━━━━━━━━━━━━━━━━━━\u001b[0m \u001b[32m2.6/2.6 MB\u001b[0m \u001b[31m29.3 MB/s\u001b[0m eta \u001b[36m0:00:00\u001b[0m\n",
            "\u001b[?25hCollecting editdistpy>=0.1.3\n",
            "  Downloading editdistpy-0.1.3-cp38-cp38-manylinux_2_5_x86_64.manylinux1_x86_64.manylinux_2_17_x86_64.manylinux2014_x86_64.whl (126 kB)\n",
            "\u001b[2K     \u001b[90m━━━━━━━━━━━━━━━━━━━━━━━━━━━━━━━━━━━━━━\u001b[0m \u001b[32m126.9/126.9 KB\u001b[0m \u001b[31m18.0 MB/s\u001b[0m eta \u001b[36m0:00:00\u001b[0m\n",
            "\u001b[?25hInstalling collected packages: editdistpy, symspellpy\n",
            "Successfully installed editdistpy-0.1.3 symspellpy-6.7.7\n",
            "Looking in indexes: https://pypi.org/simple, https://us-python.pkg.dev/colab-wheels/public/simple/\n",
            "Collecting contractions\n",
            "  Downloading contractions-0.1.73-py2.py3-none-any.whl (8.7 kB)\n",
            "Collecting textsearch>=0.0.21\n",
            "  Downloading textsearch-0.0.24-py2.py3-none-any.whl (7.6 kB)\n",
            "Collecting anyascii\n",
            "  Downloading anyascii-0.3.1-py3-none-any.whl (287 kB)\n",
            "\u001b[2K     \u001b[90m━━━━━━━━━━━━━━━━━━━━━━━━━━━━━━━━━━━━━━━\u001b[0m \u001b[32m287.5/287.5 KB\u001b[0m \u001b[31m6.5 MB/s\u001b[0m eta \u001b[36m0:00:00\u001b[0m\n",
            "\u001b[?25hCollecting pyahocorasick\n",
            "  Downloading pyahocorasick-2.0.0-cp38-cp38-manylinux_2_5_x86_64.manylinux1_x86_64.whl (104 kB)\n",
            "\u001b[2K     \u001b[90m━━━━━━━━━━━━━━━━━━━━━━━━━━━━━━━━━━━━━━\u001b[0m \u001b[32m104.5/104.5 KB\u001b[0m \u001b[31m14.1 MB/s\u001b[0m eta \u001b[36m0:00:00\u001b[0m\n",
            "\u001b[?25hInstalling collected packages: pyahocorasick, anyascii, textsearch, contractions\n",
            "Successfully installed anyascii-0.3.1 contractions-0.1.73 pyahocorasick-2.0.0 textsearch-0.0.24\n"
          ]
        }
      ],
      "source": [
        "import gensim\n",
        "import gensim.downloader as api\n",
        "import numpy as np\n",
        "\n",
        "from sklearn.svm import LinearSVC\n",
        "from sklearn.linear_model import Perceptron\n",
        "from sklearn.model_selection import train_test_split\n",
        "from sklearn.metrics import classification_report\n",
        "\n",
        "import pandas as pd\n",
        "from bs4 import BeautifulSoup\n",
        "!pip install symspellpy\n",
        "from symspellpy import SymSpell\n",
        "!pip install contractions\n",
        "import contractions\n",
        "import pkg_resources\n",
        "import contractions as ct\n",
        "import re\n",
        "import warnings"
      ]
    },
    {
      "cell_type": "markdown",
      "metadata": {
        "id": "Izo4tasbjrVn"
      },
      "source": [
        "#Load Pre-trained Word2vec Model"
      ]
    },
    {
      "cell_type": "code",
      "execution_count": 3,
      "metadata": {
        "colab": {
          "base_uri": "https://localhost:8080/"
        },
        "id": "Mxm2r2VPjxhN",
        "outputId": "ac378209-4ac6-419d-bb8d-54ca6a04e334"
      },
      "outputs": [
        {
          "output_type": "stream",
          "name": "stdout",
          "text": [
            "[==================================================] 100.0% 1662.8/1662.8MB downloaded\n"
          ]
        }
      ],
      "source": [
        "wv = api.load('word2vec-google-news-300')"
      ]
    },
    {
      "cell_type": "markdown",
      "metadata": {
        "id": "sNKg-Wk-grZs"
      },
      "source": [
        "#Define Functions Related to Data Processing"
      ]
    },
    {
      "cell_type": "code",
      "execution_count": 4,
      "metadata": {
        "id": "Fp0l3DhQgwnQ"
      },
      "outputs": [],
      "source": [
        "# Drop empty & duplicated rows\n",
        "def init_data(data_frame):\n",
        "    data_frame.dropna(inplace=True)\n",
        "    data_frame.drop_duplicates(inplace=True)\n",
        "    data_frame['star_rating'] = data_frame['star_rating'].astype('int')\n",
        "    return data_frame"
      ]
    },
    {
      "cell_type": "code",
      "source": [
        "# Init spell checker object\n",
        "def init_spell_checker():\n",
        "    sym_spell_obj = SymSpell(max_dictionary_edit_distance=2, prefix_length=7)\n",
        "    dictionary_path = pkg_resources.resource_filename(\n",
        "        \"symspellpy\", \"frequency_dictionary_en_82_765.txt\"\n",
        "    )\n",
        "    bigram_path = pkg_resources.resource_filename(\n",
        "        \"symspellpy\", \"frequency_bigramdictionary_en_243_342.txt\"\n",
        "    )\n",
        "    sym_spell_obj.load_dictionary(dictionary_path, term_index=0, count_index=1)\n",
        "    sym_spell_obj.load_bigram_dictionary(bigram_path, term_index=0, count_index=2)\n",
        "\n",
        "    return sym_spell_obj"
      ],
      "metadata": {
        "id": "uJJRcbXq0AhJ"
      },
      "execution_count": 5,
      "outputs": []
    },
    {
      "cell_type": "code",
      "source": [
        "# Spell correct the input text\n",
        "def spell_correct(text):\n",
        "    input_term = text\n",
        "    suggestions = sym_spell.lookup_compound(\n",
        "        input_term, max_edit_distance=2, transfer_casing=True\n",
        "    )\n",
        "    return suggestions[0].term"
      ],
      "metadata": {
        "id": "4p80gPqv0BS5"
      },
      "execution_count": 6,
      "outputs": []
    },
    {
      "cell_type": "code",
      "source": [
        "def exclude_words_not_in_w2v(review_body_string):\n",
        "    word_list = review_body_string.split()\n",
        "    buffer_string = \"\"\n",
        "\n",
        "    for w in word_list:\n",
        "        if w in wv.vocab:\n",
        "            buffer_string = buffer_string + w + \" \"\n",
        "\n",
        "    buffer_string = re.sub(' +', ' ', buffer_string).strip()\n",
        "    return buffer_string"
      ],
      "metadata": {
        "id": "4hVAizQn3bzd"
      },
      "execution_count": 7,
      "outputs": []
    },
    {
      "cell_type": "code",
      "execution_count": 8,
      "metadata": {
        "id": "7qBEB2rbrGLJ"
      },
      "outputs": [],
      "source": [
        "def data_cleaning(data_frame):\n",
        "    for i in range(0, len(data_frame)):\n",
        "        if data_frame['star_rating'][i] == 1 or data_frame['star_rating'][i] == 2:\n",
        "            data_frame.loc[i, ['star_rating']] = 0\n",
        "        elif data_frame['star_rating'][i] == 3:\n",
        "            data_frame.loc[i, ['star_rating']] = 1\n",
        "        elif data_frame['star_rating'][i] == 4 or data_frame['star_rating'][i] == 5:\n",
        "            data_frame.loc[i, ['star_rating']] = 2\n",
        "\n",
        "        review_text = data_frame['review_body'][i]\n",
        "        review_text = \" \".join(review_text.split())\n",
        "        # remove un-wanted html tags\n",
        "        if BeautifulSoup(review_text, \"html.parser\").find():\n",
        "            review_text = BeautifulSoup(review_text, \"html.parser\").get_text(\"　\")\n",
        "            review_text = \" \".join(review_text.split())\n",
        "        # spell correction\n",
        "        review_text = spell_correct(review_text)\n",
        "        # text extend contractions\n",
        "        review_text = \" \".join(review_text.split())\n",
        "        review_text = ct.fix(review_text)\n",
        "        # remove non-alphabetical chars\n",
        "        regex = re.compile('[^a-zA-Z]')\n",
        "        review_text = regex.sub(' ', review_text)\n",
        "        # convert to lower case\n",
        "        review_text = review_text.lower()\n",
        "        # exclude words not in w2v\n",
        "        review_text = \" \".join(review_text.split())\n",
        "        review_text = exclude_words_not_in_w2v(review_text)\n",
        "        # end of data processing\n",
        "        review_text = \" \".join(review_text.split())\n",
        "        # replace empty string with numpy's nan datatype\n",
        "        if review_text != \"\":                  \n",
        "            data_frame.loc[i, ['review_body']] = review_text\n",
        "        else:\n",
        "            data_frame.loc[i, ['review_body']] = np.nan\n",
        "    return data_frame"
      ]
    },
    {
      "cell_type": "code",
      "execution_count": 35,
      "metadata": {
        "id": "uD_VePw9bpDi"
      },
      "outputs": [],
      "source": [
        "# Takes a list of reviews and returns their average W2V embeddings as a numpy array \n",
        "def data_prep(data):\n",
        "    prepared_data = []\n",
        "    for i in range (0,len(data)):\n",
        "        words_list = data[i].split()\n",
        "        vector_sum = np.zeros((300,))\n",
        "        total_word = len(words_list)\n",
        "        for word in words_list:\n",
        "            vector_sum = vector_sum + wv[word]                  \n",
        "        prepared_data.append(vector_sum/total_word)        \n",
        "    return np.array(prepared_data)\n",
        "\n",
        "# Takes a list of reviews and concatenates them for up to 10 words in each review,\n",
        "# and returns a numpy array with the resulting W2V embeddings\n",
        "def data_prep2(data):\n",
        "    prepared_data = np.zeros((len(data), 3000))\n",
        "    for i in range(0, len(data)):\n",
        "        words_list = data[i].split()\n",
        "        index = 0\n",
        "        for word in words_list:\n",
        "            if index > 9:\n",
        "                break\n",
        "            if word in wv:\n",
        "                prepared_data[i][index*300:(index+1)*300] = wv[word]\n",
        "                index += 1\n",
        "    return prepared_data\n",
        "\n",
        "# Takes a list of reviews and creates a 3D tensor of W2V embeddings with a fixed\n",
        "# maximum length of 20 words per review. If a word is not found in the pre-trained\n",
        "# W2V model, a zero vector is used instead\n",
        "def data_prep3(data):\n",
        "    total_reviews = len(data)\n",
        "    max_review_length = 20\n",
        "    input_sequence = torch.zeros((total_reviews, max_review_length, 300))\n",
        "  \n",
        "    for i in range(total_reviews):  \n",
        "        words = data[i].split()  \n",
        "        for j in range(min(len(words), max_review_length)):\n",
        "            if words[j] in wv.vocab:\n",
        "                input_sequence[i][j] = torch.from_numpy(wv[words[j]].copy())\n",
        "            else:\n",
        "                input_sequence[i][j] = torch.zeros(300)    \n",
        "    return input_sequence\n"
      ]
    },
    {
      "cell_type": "code",
      "execution_count": 10,
      "metadata": {
        "id": "uNfflN3GClrH"
      },
      "outputs": [],
      "source": [
        "# Print the training results of Perceptron and SVM \n",
        "def generate_report(y_test, y_pred):\n",
        "    report = classification_report(y_test, y_pred, zero_division=1, output_dict=True)\n",
        "    print(\"Class 1 Precision: \" + str(report[str(0)]['precision']) + \", Class 1 Recall: \" + str(\n",
        "        report[str(0)]['recall']) + \", Class 1 f1-score: \" + str(report[str(0)]['f1-score']))\n",
        "    print(\"Class 2 Precision: \" + str(report[str(1)]['precision']) + \", Class 2 Recall: \" + str(\n",
        "        report[str(1)]['recall']) + \", Class 2 f1-score: \" + str(report[str(1)]['f1-score']))\n",
        "    print(\"Class 3 Precision: \" + str(report[str(2)]['precision']) + \", Class 3 Recall: \" + str(\n",
        "        report[str(2)]['recall']) + \", Class 3 f1-score: \" + str(report[str(2)]['f1-score']))\n",
        "    print(\"Average Precision: \" + str(report['macro avg']['precision']) + \", Averagage Recall: \" + str(\n",
        "        report['macro avg']['recall']) + \", Averagage f1-score: \" + str(\n",
        "        report['macro avg']['f1-score']))\n",
        "    print(\"\\n\")"
      ]
    },
    {
      "cell_type": "markdown",
      "source": [
        "# Task 1"
      ],
      "metadata": {
        "id": "227SqYatym2h"
      }
    },
    {
      "cell_type": "markdown",
      "metadata": {
        "id": "SJjEbxDpgDbZ"
      },
      "source": [
        "####Initialization"
      ]
    },
    {
      "cell_type": "code",
      "execution_count": 11,
      "metadata": {
        "id": "Erwe56YOfY9-"
      },
      "outputs": [],
      "source": [
        "RANDOM_SAMPLE_SIZE = 20000\n",
        "sym_spell = init_spell_checker()\n",
        "warnings.filterwarnings(\"ignore\", category=UserWarning, module='bs4')"
      ]
    },
    {
      "cell_type": "markdown",
      "metadata": {
        "id": "ORd-eXhXlpnM"
      },
      "source": [
        "####Prepare Balanced Dataset"
      ]
    },
    {
      "cell_type": "code",
      "execution_count": 14,
      "metadata": {
        "id": "DdT_M4WOlxZT"
      },
      "outputs": [],
      "source": [
        "# Read data\n",
        "############################### remember test and change ###############################\n",
        "df = pd.read_pickle(\"/content/drive/MyDrive/Dataset/data.pkl\")   \n",
        "############################### remember test and change ###############################\n",
        "df = init_data(df).reset_index(drop=True)\n",
        "\n",
        "# 3-classes dataset\n",
        "class1_df = df[df['star_rating'] <= 2].sample(RANDOM_SAMPLE_SIZE)\n",
        "class2_df = df[df['star_rating'] == 3].sample(RANDOM_SAMPLE_SIZE)\n",
        "class3_df = df[df['star_rating'] >= 4].sample(RANDOM_SAMPLE_SIZE)\n",
        "\n",
        "# Clean balanced dataset\n",
        "balanced_df = pd.concat([class1_df, class2_df, class3_df]).reset_index(drop=True)\n",
        "cleaned_balanced_df = data_cleaning(balanced_df)\n",
        "cleaned_balanced_df.dropna(inplace=True)"
      ]
    },
    {
      "cell_type": "markdown",
      "metadata": {
        "id": "VFVTb25Gy-3p"
      },
      "source": [
        "#Task 2a"
      ]
    },
    {
      "cell_type": "code",
      "execution_count": 27,
      "metadata": {
        "colab": {
          "base_uri": "https://localhost:8080/"
        },
        "id": "llGJOfcO9D3Z",
        "outputId": "1ed5dc9a-3928-477c-e18b-e36468f58c37"
      },
      "outputs": [
        {
          "output_type": "stream",
          "name": "stdout",
          "text": [
            "ice + sport - walk ~= ('hockey', 0.5072677135467529)\n",
            "gas + dangerous - stable ~= ('natural_gas', 0.4578143358230591)\n",
            "cold + rain - sun ~= ('wet_weather', 0.5952470302581787)\n"
          ]
        }
      ],
      "source": [
        "# 3 examples using pre-trained W2V\n",
        "example_1 = wv.most_similar(positive=['ice','sport'], negative=['walk'])\n",
        "example_2 = wv.most_similar(positive=['gas', 'dangerous'], negative=['stable'])\n",
        "example_3 = wv.most_similar(positive=['cold', 'rain'], negative=['sun'])\n",
        "print(\"ice + sport - walk ~= \" + str(example_1[0]))\n",
        "print(\"gas + dangerous - stable ~= \" + str(example_2[0]))\n",
        "print(\"cold + rain - sun ~= \" + str(example_3[0]))"
      ]
    },
    {
      "cell_type": "markdown",
      "metadata": {
        "id": "FI-ZqGu4FP_U"
      },
      "source": [
        "#Task 2b"
      ]
    },
    {
      "cell_type": "code",
      "execution_count": 28,
      "metadata": {
        "id": "d6vQkLkPFVY9"
      },
      "outputs": [],
      "source": [
        "# Train my W2V\n",
        "sentences = cleaned_balanced_df[\"review_body\"].tolist()\n",
        "sentences_training = [index.split() for index in sentences ]\n",
        "my_word2vec = gensim.models.Word2Vec(sentences_training , size=300, window=13, min_count=9)"
      ]
    },
    {
      "cell_type": "code",
      "execution_count": 31,
      "metadata": {
        "colab": {
          "base_uri": "https://localhost:8080/"
        },
        "id": "OvNgc7UDWuU4",
        "outputId": "b72326d4-7f2f-4f3d-f9ea-f778ed1b25a8"
      },
      "outputs": [
        {
          "output_type": "stream",
          "name": "stdout",
          "text": [
            "ice + sport - walk ~= ('aqua', 0.6586734056472778)\n",
            "gas + dangerous - stable ~= ('cancer', 0.6508302688598633)\n",
            "cold + rain - sun ~= ('boiling', 0.6218066811561584)\n"
          ]
        }
      ],
      "source": [
        "# 3 examples using my W2V\n",
        "example_1 = my_word2vec.wv.most_similar(positive=['ice','sport'], negative=['walk'])\n",
        "example_2 = my_word2vec.wv.most_similar(positive=['gas', 'dangerous'], negative=['stable'])\n",
        "example_3 = my_word2vec.wv.most_similar(positive=['cold', 'rain'], negative=['sun'])\n",
        "print(\"ice + sport - walk ~= \" + str(example_1[0]))\n",
        "print(\"gas + dangerous - stable ~= \" + str(example_2[0]))\n",
        "print(\"cold + rain - sun ~= \" + str(example_3[0]))"
      ]
    },
    {
      "cell_type": "markdown",
      "source": [
        "#Prepares the Training & Test Data for Different Tasks"
      ],
      "metadata": {
        "id": "Zg71lB5y7fpo"
      }
    },
    {
      "cell_type": "markdown",
      "metadata": {
        "id": "m1Xjd3tX8AC3"
      },
      "source": [
        "####Split Dataset into Training and Testing Set"
      ]
    },
    {
      "cell_type": "code",
      "execution_count": 41,
      "metadata": {
        "id": "rfS9-Wlg5RRj"
      },
      "outputs": [],
      "source": [
        "X_train, X_test, y_train, y_test = train_test_split(cleaned_balanced_df['review_body'], cleaned_balanced_df['star_rating'], test_size=0.2)"
      ]
    },
    {
      "cell_type": "markdown",
      "metadata": {
        "id": "BjnjmlLdI_0k"
      },
      "source": [
        "####Prepares Data"
      ]
    },
    {
      "cell_type": "code",
      "execution_count": 42,
      "metadata": {
        "id": "olt4nAY-8fYu"
      },
      "outputs": [],
      "source": [
        "import torch\n",
        "\n",
        "# Test data for task 3, 4 and 5\n",
        "y_train_np = y_train.to_numpy()\n",
        "y_test_np =  y_test.to_numpy()\n",
        "\n",
        "# Training data for task 3 and 4a\n",
        "X_train_np = data_prep(X_train.to_numpy()) \n",
        "X_test_np = data_prep(X_test.to_numpy()) \n",
        "\n",
        "# Training data for task 4b\n",
        "X_train_np_2 = data_prep2(X_train.to_numpy()) \n",
        "X_test_np_2 = data_prep2(X_test.to_numpy()) \n",
        "\n",
        "# Training data for task 5\n",
        "X_train_np_3 = data_prep3(X_train.to_numpy()) \n",
        "X_test_np_3 = data_prep3(X_test.to_numpy()) "
      ]
    },
    {
      "cell_type": "markdown",
      "metadata": {
        "id": "O6pboK305N_e"
      },
      "source": [
        "#Task 3"
      ]
    },
    {
      "cell_type": "markdown",
      "metadata": {
        "id": "yorHSUWzueGb"
      },
      "source": [
        "####Train Perceptron"
      ]
    },
    {
      "cell_type": "code",
      "execution_count": 43,
      "metadata": {
        "id": "FrII3Njn59sB",
        "colab": {
          "base_uri": "https://localhost:8080/"
        },
        "outputId": "ae23e7b4-2fcd-4a61-b229-2a51f66e3c5a"
      },
      "outputs": [
        {
          "output_type": "stream",
          "name": "stdout",
          "text": [
            "Class 1 Precision: 0.8536355051935789, Class 1 Recall: 0.22448472808542339, Class 1 f1-score: 0.3554856468737711\n",
            "Class 2 Precision: 0.46762837025588183, Class 2 Recall: 0.7009009009009008, Class 2 f1-score: 0.5609806345282241\n",
            "Class 3 Precision: 0.6098181106982202, Class 3 Recall: 0.7636541758510899, Class 3 f1-score: 0.6781209221400608\n",
            "Average Precision: 0.6436939953825603, Averagage Recall: 0.5630132682791381, Averagage f1-score: 0.531529067847352\n",
            "\n",
            "\n"
          ]
        }
      ],
      "source": [
        "clf_perceptron = Perceptron()\n",
        "clf_perceptron = clf_perceptron.fit(X_train_np, y_train_np)\n",
        "y_pred_perceptron = clf_perceptron.predict(X_test_np)\n",
        "generate_report(y_test_np, y_pred_perceptron)"
      ]
    },
    {
      "cell_type": "markdown",
      "metadata": {
        "id": "R86eteEjui1i"
      },
      "source": [
        "####Train Linear SVC"
      ]
    },
    {
      "cell_type": "code",
      "execution_count": 44,
      "metadata": {
        "id": "HIOVPay6ul8Y",
        "colab": {
          "base_uri": "https://localhost:8080/"
        },
        "outputId": "5dc5efc6-c36a-4267-b445-41670afb8f82"
      },
      "outputs": [
        {
          "output_type": "stream",
          "name": "stdout",
          "text": [
            "Class 1 Precision: 0.6649622595568542, Class 1 Recall: 0.6781723367270921, Class 1 f1-score: 0.6715023358741087\n",
            "Class 2 Precision: 0.5714285714285714, Class 2 Recall: 0.557014157014157, Class 2 f1-score: 0.5641293013555787\n",
            "Class 3 Precision: 0.7259205071933674, Class 3 Recall: 0.7291207445505755, Class 3 f1-score: 0.7275171065493645\n",
            "Average Precision: 0.654103779392931, Averagage Recall: 0.6547690794306082, Averagage f1-score: 0.6543829145930173\n",
            "\n",
            "\n"
          ]
        }
      ],
      "source": [
        "clf_linear_svc = LinearSVC()\n",
        "clf_linear_svc = clf_linear_svc.fit(X_train_np, y_train_np)\n",
        "y_pred_linear_svc = clf_linear_svc.predict(X_test_np)\n",
        "generate_report(y_test_np, y_pred_linear_svc)"
      ]
    },
    {
      "cell_type": "markdown",
      "metadata": {
        "id": "ulRHZC8pDVZG"
      },
      "source": [
        "#Task 4a"
      ]
    },
    {
      "cell_type": "markdown",
      "source": [
        "####Define Functions"
      ],
      "metadata": {
        "id": "Hhwy3lA7VpCV"
      }
    },
    {
      "cell_type": "code",
      "source": [
        "# Train and evaluate an MLP model\n",
        "def Train_an_MLP_and_eval(input_size, hidden_1, hidden_2, use_batchnom,dropout_p, train,validation,test,lr =0.001,wd=0.0,es_num=20,num_epoch=100):    \n",
        "    # Initialize an MLP model with the given input and hidden layer sizes\n",
        "    mlp = MLP(input_size, hidden_1, hidden_2, use_batchnom,dropout_p)\n",
        "\n",
        "    # Define the loss function and optimizer for the model\n",
        "    loss_function = nn.CrossEntropyLoss()\n",
        "    optimizer = torch.optim.RAdam(mlp.parameters(),lr=lr, weight_decay=wd)\n",
        "\n",
        "    # Initialize variables for recording training, validation and test losses\n",
        "    best_loss = float('inf')\n",
        "    counter = 0\n",
        "    train_list = []\n",
        "    valid_list = []\n",
        "    test_list = [] \n",
        "    train_acc_list = []\n",
        "    test_acc_list = []\n",
        "    lowest_valid_loss = float('inf')\n",
        "\n",
        "    # Training loop\n",
        "    for epoch in range(0, num_epoch): \n",
        "        train_loss = 0.0   \n",
        "        train_correct = 0\n",
        "        train_total = 0\n",
        "        # Iterate over the training data and perform forward and backward passes \n",
        "        # to update the model weights     \n",
        "        for i, data in enumerate(train, 0):\n",
        "            inputs, targets = data\n",
        "          \n",
        "            optimizer.zero_grad()\n",
        "            outputs = mlp(inputs)\n",
        "            targets = targets.type(torch.LongTensor)\n",
        "            loss = loss_function(outputs, targets)\n",
        "            loss.backward()\n",
        "            optimizer.step()\n",
        "            train_loss += loss.item()\n",
        "\n",
        "            # Calculate training accuracy\n",
        "            _, predicted = torch.max(outputs.data, 1)\n",
        "            train_total += targets.size(0)\n",
        "            train_correct += (predicted == targets).sum().item()\n",
        "\n",
        "        # Record train loss and accuracy\n",
        "        train_list.append(train_loss / len(train))\n",
        "        train_acc_list.append(train_correct / train_total)\n",
        "\n",
        "        # Evaluate the model on the validation data and record the validation loss\n",
        "        valid_loss = 0.0\n",
        "        mlp.eval()  \n",
        "        for i, data in enumerate(validation, 0):\n",
        "            inputs, targets = data\n",
        "            outputs = mlp(inputs)\n",
        "            targets = targets.type(torch.LongTensor)\n",
        "            loss = loss_function(outputs, targets)\n",
        "            valid_loss += loss.item()\n",
        "        valid_list.append(valid_loss / len(validation))\n",
        "        \n",
        "        # Update the lowest validation loss seen so far\n",
        "        if lowest_valid_loss > valid_loss / len(validation):\n",
        "            lowest_valid_loss = valid_loss / len(validation)\n",
        "\n",
        "        # Evaluate the model on the test data and record the test loss\n",
        "        mlp.eval()  \n",
        "        testing_loss = 0.0\n",
        "        testing_correct = 0\n",
        "        testing_total = 0\n",
        "        with torch.no_grad():\n",
        "            for data, target in test:\n",
        "                output = mlp(data)\n",
        "                target = target.type(torch.LongTensor)\n",
        "                loss = loss_function(output, target)\n",
        "                testing_loss += loss.item() * data.size(0)\n",
        "\n",
        "                # Calculate test accuracy\n",
        "                _, predicted = torch.max(output.data, 1)\n",
        "                testing_total += target.size(0)\n",
        "                testing_correct += (predicted == target).sum().item()\n",
        "\n",
        "        testing_loss /= len(test.dataset)\n",
        "        test_list.append(testing_loss)\n",
        "        test_acc_list.append(testing_correct / testing_total)\n",
        "\n",
        "        # If the validation loss hasn't improved in es_num epochs, stop training        \n",
        "        if valid_loss < best_loss:\n",
        "            best_loss = valid_loss\n",
        "            counter = 0\n",
        "            torch.save(mlp.state_dict(), 'best_model.pt')\n",
        "        else:\n",
        "            counter += 1\n",
        "            if counter >= es_num:\n",
        "                print(\"Early stopping\")\n",
        "                break  \n",
        "    \n",
        "    # Use the best model obtained from the early stopping process\n",
        "    mlp.load_state_dict(torch.load('best_model.pt'))\n",
        "    test_acc(mlp, test)\n",
        "    print(\"Lowest Valid Loss = \" + str(lowest_valid_loss))\n",
        "    plot_loss(train_list, test_list, valid_list)   \n",
        "    print(\"\\n\")\n",
        "    plot_accuracy(train_acc_list, test_acc_list)    "
      ],
      "metadata": {
        "id": "DdbpFIHv78aE"
      },
      "execution_count": 45,
      "outputs": []
    },
    {
      "cell_type": "code",
      "source": [
        "from torch import nn\n",
        "from torch.nn import functional as F\n",
        "from torch.utils.data import DataLoader,TensorDataset,random_split\n",
        "from torchvision import transforms,datasets\n",
        "import matplotlib.pyplot as plt\n",
        "\n",
        "# Calculate and print the accuracy of the model on the given dataset\n",
        "def test_acc(model, dataloader):\n",
        "    model.eval()\n",
        "    \n",
        "    correct = 0\n",
        "    total = 0\n",
        "    with torch.no_grad():\n",
        "        for data, labels in dataloader:\n",
        "            outputs = model(data)       \n",
        "            _, predicted = torch.max(outputs.data, 1)\n",
        "            total += labels.size(0)\n",
        "            correct += (predicted == labels).sum().item()  \n",
        "    accuracy = 100 * correct / total      \n",
        "    print('Test accuracy: {:.16f}%'.format(accuracy))\n",
        "\n",
        "# Plot the training, validation, and test losses\n",
        "def plot_loss(train_loss, test_loss, val_loss):\n",
        "    epochs = len(train_loss)\n",
        "    x = range(epochs)\n",
        "\n",
        "    plt.plot(x, train_loss, label='Training Loss')\n",
        "    plt.plot(x, test_loss, label='Testing Loss')\n",
        "    plt.plot(x, val_loss, label='Validation Loss')\n",
        "\n",
        "    plt.xlabel('Epoch')\n",
        "    plt.ylabel('Loss')\n",
        "    plt.legend()\n",
        "    plt.show()\n",
        "\n",
        "# Plot the training and testing accuracy\n",
        "def plot_accuracy(train_acc_list, test_acc_list):\n",
        "    plt.plot(train_acc_list, label='Training Accuracy')\n",
        "    plt.plot(test_acc_list, label='Testing Accuracy')\n",
        "    plt.legend()\n",
        "    plt.title('Training and Testing Accuracy')\n",
        "    plt.xlabel('Epoch')\n",
        "    plt.ylabel('Accuracy')\n",
        "    plt.show()"
      ],
      "metadata": {
        "id": "_c0tOtRi6zoi"
      },
      "execution_count": 46,
      "outputs": []
    },
    {
      "cell_type": "markdown",
      "metadata": {
        "id": "vhg2zR1HXgSc"
      },
      "source": [
        "####Setup Dataloaders for Task 4a and 4b"
      ]
    },
    {
      "cell_type": "code",
      "execution_count": 47,
      "metadata": {
        "id": "H_fYexDyPon_",
        "colab": {
          "base_uri": "https://localhost:8080/"
        },
        "outputId": "c956158f-faa5-47fd-edd1-6aa610bbb293"
      },
      "outputs": [
        {
          "output_type": "stream",
          "name": "stdout",
          "text": [
            "Using cuda device\n"
          ]
        }
      ],
      "source": [
        "# use GPU if available, otherwise use CPU\n",
        "device = \"cuda\" if torch.cuda.is_available() else \"cpu\"\n",
        "print(f\"Using {device} device\")\n",
        "\n",
        "#####   Dataloaders for task 4a #####\n",
        "BATCH_SIZE = 64\n",
        "X_train_tensor = torch.Tensor(X_train_np)\n",
        "X_test_tensor  = torch.Tensor(X_test_np)\n",
        "y_train_tensor = torch.Tensor(y_train_np)\n",
        "y_test_tensor = torch.Tensor(y_test_np)\n",
        "\n",
        "train_dataset = TensorDataset(X_train_tensor,y_train_tensor)\n",
        "test_dataset = TensorDataset(X_test_tensor,y_test_tensor)\n",
        "\n",
        "train_dataset, validation_dataset = random_split(train_dataset,[0.9,0.1])\n",
        "\n",
        "train_dataloader = DataLoader(train_dataset, batch_size=BATCH_SIZE, shuffle=True) \n",
        "test_dataloader = DataLoader(test_dataset, batch_size=BATCH_SIZE, shuffle=True) \n",
        "validation_dataloader = DataLoader(validation_dataset, batch_size=BATCH_SIZE, shuffle=True) \n",
        "\n",
        "#####   Dataloaders for task 4b #####\n",
        "BATCH_SIZE_2 = 32\n",
        "\n",
        "X_train_tensor_2 = torch.Tensor(X_train_np_2.astype('float32'))\n",
        "X_test_tensor_2  = torch.Tensor(X_test_np_2.astype('float32'))\n",
        "\n",
        "train_dataset_2 = TensorDataset(X_train_tensor_2,y_train_tensor)\n",
        "test_dataset_2 = TensorDataset(X_test_tensor_2,y_test_tensor)\n",
        "\n",
        "train_dataset_2, validation_dataset_2 = random_split(train_dataset_2,[0.9,0.1])\n",
        "\n",
        "train_dataloader_2 = DataLoader(train_dataset_2, batch_size=BATCH_SIZE_2, shuffle=True) \n",
        "test_dataloader_2 = DataLoader(test_dataset_2, batch_size=BATCH_SIZE_2, shuffle=True) \n",
        "validation_dataloader_2= DataLoader(validation_dataset_2, batch_size=BATCH_SIZE_2, shuffle=True)"
      ]
    },
    {
      "cell_type": "markdown",
      "source": [
        "####MLP constructor"
      ],
      "metadata": {
        "id": "RTmdvbCEVxrt"
      }
    },
    {
      "cell_type": "code",
      "execution_count": 48,
      "metadata": {
        "id": "hBReo9qTbskK"
      },
      "outputs": [],
      "source": [
        "class MLP(nn.Module):\n",
        "    def __init__(self, input_size, hidden_1, hidden_2, use_batchnorm, dropout_p=0.0, output_size=3):\n",
        "        super().__init__()\n",
        "\n",
        "        # Create a sequence of layers\n",
        "        self.layers = nn.Sequential(\n",
        "            # Flatten the input tensor \n",
        "            nn.Flatten(),\n",
        "            # Fully connected layer \n",
        "            nn.Linear(input_size, hidden_1),\n",
        "            # Add batch normalization if True\n",
        "            nn.BatchNorm1d(hidden_1) if use_batchnorm else nn.Identity(),\n",
        "            # Apply ReLU activation function\n",
        "            nn.ReLU(),\n",
        "            # Apply dropout with probability dropout_p \n",
        "            nn.Dropout(dropout_p),\n",
        "            # Fully connected layer \n",
        "            nn.Linear(hidden_1, hidden_2),\n",
        "            # Add batch normalization if True\n",
        "            nn.BatchNorm1d(hidden_2) if use_batchnorm else nn.Identity(),\n",
        "            # Apply ReLU activation function\n",
        "            nn.ReLU(),\n",
        "            # Apply dropout with probability dropout_p\n",
        "            nn.Dropout(dropout_p),\n",
        "            # Fully connected layer \n",
        "            nn.Linear(hidden_2, output_size)\n",
        "        )\n",
        "\n",
        "    def forward(self, x):        \n",
        "        return self.layers(x)"
      ]
    },
    {
      "cell_type": "markdown",
      "source": [
        "####Train MLP 4a"
      ],
      "metadata": {
        "id": "rKKbI0K2V5hz"
      }
    },
    {
      "cell_type": "code",
      "execution_count": 49,
      "metadata": {
        "id": "r71car5tqg00",
        "colab": {
          "base_uri": "https://localhost:8080/",
          "height": 644
        },
        "outputId": "d7db11c8-60c2-43f5-e344-ee27b3e2d163"
      },
      "outputs": [
        {
          "output_type": "stream",
          "name": "stdout",
          "text": [
            "Early stopping\n",
            "Test accuracy: 66.8862025844101709%\n",
            "Lowest Valid Loss = 0.7416303757826487\n"
          ]
        },
        {
          "output_type": "display_data",
          "data": {
            "text/plain": [
              "<Figure size 432x288 with 1 Axes>"
            ],
            "image/png": "[encoded data removed]"
          },
          "metadata": {
            "needs_background": "light"
          }
        },
        {
          "output_type": "stream",
          "name": "stdout",
          "text": [
            "\n",
            "\n"
          ]
        },
        {
          "output_type": "display_data",
          "data": {
            "text/plain": [
              "<Figure size 432x288 with 1 Axes>"
            ],
            "image/png": "[encoded data removed]"
          },
          "metadata": {
            "needs_background": "light"
          }
        }
      ],
      "source": [
        "Train_an_MLP_and_eval(300,100,10,True,0.5,train_dataloader,validation_dataloader,test_dataloader,wd=0.001)"
      ]
    },
    {
      "cell_type": "markdown",
      "source": [
        "####Train MLP 4b"
      ],
      "metadata": {
        "id": "DVtSotCOrAwE"
      }
    },
    {
      "cell_type": "code",
      "source": [
        "Train_an_MLP_and_eval(3000,100,10,True,0.5,train_dataloader_2,validation_dataloader_2,test_dataloader_2,wd = 0.01)"
      ],
      "metadata": {
        "id": "-khD3tmcjn2j",
        "colab": {
          "base_uri": "https://localhost:8080/",
          "height": 644
        },
        "outputId": "d32109a9-05c4-4121-c0a7-902bc2b82d86"
      },
      "execution_count": 50,
      "outputs": [
        {
          "output_type": "stream",
          "name": "stdout",
          "text": [
            "Early stopping\n",
            "Test accuracy: 56.1233847436431859%\n",
            "Lowest Valid Loss = 0.8990890645980835\n"
          ]
        },
        {
          "output_type": "display_data",
          "data": {
            "text/plain": [
              "<Figure size 432x288 with 1 Axes>"
            ],
            "image/png": "[encoded data removed]"
          },
          "metadata": {
            "needs_background": "light"
          }
        },
        {
          "output_type": "stream",
          "name": "stdout",
          "text": [
            "\n",
            "\n"
          ]
        },
        {
          "output_type": "display_data",
          "data": {
            "text/plain": [
              "<Figure size 432x288 with 1 Axes>"
            ],
            "image/png": "[encoded data removed]"
          },
          "metadata": {
            "needs_background": "light"
          }
        }
      ]
    },
    {
      "cell_type": "markdown",
      "source": [
        "# Task 5"
      ],
      "metadata": {
        "id": "zNYqnVUkmHxn"
      }
    },
    {
      "cell_type": "markdown",
      "source": [
        "####Constructors for RNN, GRU, and LSTM"
      ],
      "metadata": {
        "id": "oZWk2uxdlHAi"
      }
    },
    {
      "cell_type": "code",
      "source": [
        "class RNN(nn.Module):\n",
        "    def __init__(self, input_size, hid_dim, output_dim):\n",
        "        super().__init__()\n",
        "        # A bidirectional RNN should be better for Amazon reviews\n",
        "        self.rnn = nn.RNN(input_size, hid_dim, batch_first=True, bidirectional=True)\n",
        "        # Define a linear layer to generate the final output from the concatenated hidden state\n",
        "        self.fc = nn.Linear(hid_dim * 2, output_dim)\n",
        "\n",
        "    def forward(self, x):\n",
        "        output, hidden = self.rnn(x)\n",
        "        # The RNN returns a tensor with shape (num_layers * num_directions, batch_size, hidden_size)\n",
        "        # In this case, we only want the last hidden state of both directions, which is why -2 and -1 is used\n",
        "        last_hidden_fw = hidden[-2, :, :]\n",
        "        last_hidden_bw = hidden[-1, :, :]\n",
        "        # Concatenate the last hidden states along the second dimension\n",
        "        hidden_concat = torch.cat([last_hidden_fw, last_hidden_bw], dim=1)\n",
        "        out = self.fc(hidden_concat)\n",
        "        return out\n",
        "\n",
        "\n",
        "class GRU(nn.Module):\n",
        "    def __init__(self, input_size, hid_dim, output_dim):\n",
        "        super().__init__()\n",
        "        # A bidirectional RNN should be better for Amazon reviews\n",
        "        self.gru = nn.GRU(input_size, hid_dim, batch_first=True, bidirectional=True)\n",
        "        # Define a linear layer to generate the final output from the concatenated hidden state\n",
        "        self.fc = nn.Linear(hid_dim * 2, output_dim)\n",
        "\n",
        "    def forward(self, x):\n",
        "        output, hidden = self.gru(x)\n",
        "        # The GRU also returns a tensor with shape (num_layers * num_directions, batch_size, hidden_size)\n",
        "        # However, in this case, the first dimension corresponds to the different gates in the GRU\n",
        "        # To get the last hidden state of both directions, we use 0 and 1\n",
        "        last_hidden_fw = hidden[0, :, :]\n",
        "        last_hidden_bw = hidden[1, :, :]\n",
        "        # Concatenate the last hidden states along the second dimension\n",
        "        hidden_concat = torch.cat([last_hidden_fw, last_hidden_bw], dim=1)\n",
        "        out = self.fc(hidden_concat)\n",
        "        return out\n",
        "\n",
        "class LSTM(nn.Module):\n",
        "    def __init__(self, input_size, hid_dim, output_dim):\n",
        "        super().__init__()\n",
        "        # A bidirectional RNN should be better for Amazon reviews\n",
        "        self.lstm = nn.LSTM(input_size, hid_dim, batch_first=True, bidirectional=True)\n",
        "        self.fc = nn.Linear(hid_dim * 2, output_dim)\n",
        "\n",
        "    def forward(self, x):\n",
        "        output, (hidden, cell) = self.lstm(x)\n",
        "        # The LSTM also returns a tuple containing the hidden state and the cell state\n",
        "        # We only want the last hidden state of both directions, which is why -2 and -1 is used\n",
        "        last_hidden_fw = hidden[-2, :, :]\n",
        "        last_hidden_bw = hidden[-1, :, :]\n",
        "        # Concatenate the last hidden states along the second dimension\n",
        "        hidden_concat = torch.cat([last_hidden_fw, last_hidden_bw], dim=1)\n",
        "        out = self.fc(hidden_concat)\n",
        "        return out"
      ],
      "metadata": {
        "id": "lZt2rhIYM0C2"
      },
      "execution_count": 51,
      "outputs": []
    },
    {
      "cell_type": "markdown",
      "source": [
        "#### Function to Train a RNN"
      ],
      "metadata": {
        "id": "CaHSraOHWJLA"
      }
    },
    {
      "cell_type": "code",
      "source": [
        "def Train_a_RNN_and_eval(model_abbrv,input_size, hidden_1, output_size ,train, validation, test, num_epochs=100):\n",
        "    if model_abbrv == \"rnn\": \n",
        "        model = RNN(input_size, hidden_1, output_size)\n",
        "    elif model_abbrv == \"gru\":\n",
        "        model = GRU(input_size,  hidden_1,  output_size)\n",
        "    elif model_abbrv == \"lstm\":\n",
        "        model = LSTM(input_size, hidden_1, output_size)\n",
        "   \n",
        "    optimizer = torch.optim.RAdam(model.parameters())\n",
        "    loss_function = nn.CrossEntropyLoss() \n",
        "    best_loss = float('inf')\n",
        "    counter = 0\n",
        "    train_list = []\n",
        "    valid_list = []\n",
        "    test_list = []\n",
        "    train_acc_list = []\n",
        "    test_acc_list = []\n",
        "    lowest_valid_loss = float('inf')\n",
        "\n",
        "    for epoch in range(num_epochs):        \n",
        "        train_loss = 0.0\n",
        "        train_total = 0\n",
        "        train_correct = 0\n",
        "        for i, batch in enumerate(train, 0):\n",
        "            inputs, targets = batch\n",
        "            optimizer.zero_grad()\n",
        "            outputs = model(inputs)\n",
        "            targets = targets.type(torch.LongTensor)\n",
        "            loss = loss_function(outputs, targets)\n",
        "            loss.backward()\n",
        "            optimizer.step()\n",
        "            train_loss += loss.item()\n",
        "\n",
        "            # Calculate training accuracy\n",
        "            _, predicted = torch.max(outputs.data, 1)\n",
        "            train_total += targets.size(0)\n",
        "            train_correct += (predicted == targets).sum().item()\n",
        "\n",
        "        # record train loss and accuracy\n",
        "        train_list.append(train_loss / len(train))\n",
        "        train_acc_list.append(train_correct / train_total)\n",
        "\n",
        "        # record validation loss\n",
        "        valid_loss = 0.0\n",
        "        model.eval()  \n",
        "        for i, data in enumerate(validation, 0):\n",
        "            inputs, targets = data\n",
        "            outputs = model(inputs)\n",
        "            targets = targets.type(torch.LongTensor)\n",
        "            loss = loss_function(outputs, targets)\n",
        "            valid_loss += loss.item()\n",
        "        valid_list.append(valid_loss / len(validation))\n",
        "        \n",
        "        # update lowest validation loss\n",
        "        if lowest_valid_loss > valid_loss / len(validation):\n",
        "            lowest_valid_loss = valid_loss / len(validation)\n",
        "\n",
        "         # record test loss\n",
        "        model.eval()  \n",
        "        testing_loss = 0.0\n",
        "        testing_total = 0.0\n",
        "        testing_correct = 0.0\n",
        "        with torch.no_grad():\n",
        "            for data, target in test:\n",
        "                output = model(data)\n",
        "                target = target.type(torch.LongTensor)\n",
        "                loss = loss_function(output, target)\n",
        "                testing_loss += loss.item() * data.size(0)\n",
        "\n",
        "                # Calculate test accuracy\n",
        "                _, predicted = torch.max(output.data, 1)\n",
        "                testing_total += target.size(0)\n",
        "                testing_correct += (predicted == target).sum().item()\n",
        "\n",
        "        testing_loss /= len(test.dataset)\n",
        "        test_list.append(testing_loss)\n",
        "        test_acc_list.append(testing_correct / testing_total)\n",
        "\n",
        "        # early stopping\n",
        "        if valid_loss < best_loss:\n",
        "            best_loss = valid_loss\n",
        "            counter = 0\n",
        "            torch.save(model.state_dict(), 'best_model.pt')\n",
        "        else:\n",
        "            counter += 1\n",
        "            if counter >= 20:\n",
        "                print(\"Early stopping\")\n",
        "                break\n",
        "  \n",
        "    # Use the best model obtained from the early stopping process\n",
        "    model.load_state_dict(torch.load('best_model.pt'))\n",
        "    test_acc(model, test)\n",
        "    print(\"Lowest Valid Loss = \" + str(lowest_valid_loss)) \n",
        "    plot_loss(train_list, test_list, valid_list)      \n",
        "    print(\"\\n\")\n",
        "    plot_accuracy(train_acc_list, test_acc_list) "
      ],
      "metadata": {
        "id": "7fVChFikkxLW"
      },
      "execution_count": 52,
      "outputs": []
    },
    {
      "cell_type": "markdown",
      "source": [
        "####Setup Dataloaders for Task 5"
      ],
      "metadata": {
        "id": "TxBlNCjcDehN"
      }
    },
    {
      "cell_type": "code",
      "source": [
        "BATCH_SIZE_3 = 32\n",
        "\n",
        "X_train_tensor_3 = torch.Tensor(X_train_np_3).to(dtype=torch.float32)\n",
        "X_test_tensor_3  = torch.Tensor(X_test_np_3).to(dtype=torch.float32)\n",
        "\n",
        "train_dataset_3 = TensorDataset(X_train_tensor_3, y_train_tensor)\n",
        "test_dataset_3 = TensorDataset(X_test_tensor_3, y_test_tensor)\n",
        "\n",
        "train_dataset_3, validation_dataset_3 = random_split(train_dataset_3, [0.9, 0.1])\n",
        "\n",
        "train_dataloader_3 = DataLoader(train_dataset_3, batch_size=BATCH_SIZE_3, shuffle=True) \n",
        "test_dataloader_3 = DataLoader(test_dataset_3, batch_size=BATCH_SIZE_3, shuffle=True) \n",
        "validation_dataloader_3 = DataLoader(validation_dataset_3, batch_size=BATCH_SIZE_3, shuffle=True)"
      ],
      "metadata": {
        "id": "diajJR5AIUU4"
      },
      "execution_count": 56,
      "outputs": []
    },
    {
      "cell_type": "markdown",
      "source": [
        "####Task 5a"
      ],
      "metadata": {
        "id": "9wLC3r9dWxsN"
      }
    },
    {
      "cell_type": "code",
      "source": [
        "Train_a_RNN_and_eval(\"rnn\",300, 20, 3, train_dataloader_3, validation_dataloader_3, test_dataloader_3)"
      ],
      "metadata": {
        "colab": {
          "base_uri": "https://localhost:8080/",
          "height": 644
        },
        "id": "0QmpZy5DRwiw",
        "outputId": "4813a599-e8dd-49d3-9e28-69e56a809e4a"
      },
      "execution_count": 57,
      "outputs": [
        {
          "output_type": "stream",
          "name": "stdout",
          "text": [
            "Early stopping\n",
            "Test accuracy: 61.9924968736973767%\n",
            "Lowest Valid Loss = 0.8127997370560964\n"
          ]
        },
        {
          "output_type": "display_data",
          "data": {
            "text/plain": [
              "<Figure size 432x288 with 1 Axes>"
            ],
            "image/png": "[encoded data removed]"
          },
          "metadata": {
            "needs_background": "light"
          }
        },
        {
          "output_type": "stream",
          "name": "stdout",
          "text": [
            "\n",
            "\n"
          ]
        },
        {
          "output_type": "display_data",
          "data": {
            "text/plain": [
              "<Figure size 432x288 with 1 Axes>"
            ],
            "image/png": "[encoded data removed]"
          },
          "metadata": {
            "needs_background": "light"
          }
        }
      ]
    },
    {
      "cell_type": "markdown",
      "source": [
        "####Task 5b"
      ],
      "metadata": {
        "id": "jcJDYpMSXAyX"
      }
    },
    {
      "cell_type": "code",
      "source": [
        "Train_a_RNN_and_eval(\"gru\",300, 20, 3, train_dataloader_3, validation_dataloader_3, test_dataloader_3)"
      ],
      "metadata": {
        "colab": {
          "base_uri": "https://localhost:8080/",
          "height": 644
        },
        "id": "P442z4ZOsuUy",
        "outputId": "342a0f8c-0e7b-49fb-b258-45095632c97d"
      },
      "execution_count": 58,
      "outputs": [
        {
          "output_type": "stream",
          "name": "stdout",
          "text": [
            "Early stopping\n",
            "Test accuracy: 65.5022926219258039%\n",
            "Lowest Valid Loss = 0.7512034686406454\n"
          ]
        },
        {
          "output_type": "display_data",
          "data": {
            "text/plain": [
              "<Figure size 432x288 with 1 Axes>"
            ],
            "image/png": "[encoded data removed]"
          },
          "metadata": {
            "needs_background": "light"
          }
        },
        {
          "output_type": "stream",
          "name": "stdout",
          "text": [
            "\n",
            "\n"
          ]
        },
        {
          "output_type": "display_data",
          "data": {
            "text/plain": [
              "<Figure size 432x288 with 1 Axes>"
            ],
            "image/png": "[encoded data removed]"
          },
          "metadata": {
            "needs_background": "light"
          }
        }
      ]
    },
    {
      "cell_type": "markdown",
      "source": [
        "####Task 5c"
      ],
      "metadata": {
        "id": "dBlOH_FtXFMG"
      }
    },
    {
      "cell_type": "code",
      "source": [
        "Train_a_RNN_and_eval(\"lstm\",300, 20, 3, train_dataloader_3, validation_dataloader_3, test_dataloader_3)"
      ],
      "metadata": {
        "id": "6cbbvSAVcxPK",
        "colab": {
          "base_uri": "https://localhost:8080/",
          "height": 644
        },
        "outputId": "ffe62e9c-eaab-4c6f-bdb3-5a7f6de84012"
      },
      "execution_count": 59,
      "outputs": [
        {
          "output_type": "stream",
          "name": "stdout",
          "text": [
            "Early stopping\n",
            "Test accuracy: 65.1854939558149198%\n",
            "Lowest Valid Loss = 0.7527121152480444\n"
          ]
        },
        {
          "output_type": "display_data",
          "data": {
            "text/plain": [
              "<Figure size 432x288 with 1 Axes>"
            ],
            "image/png": "[encoded data removed]"
          },
          "metadata": {
            "needs_background": "light"
          }
        },
        {
          "output_type": "stream",
          "name": "stdout",
          "text": [
            "\n",
            "\n"
          ]
        },
        {
          "output_type": "display_data",
          "data": {
            "text/plain": [
              "<Figure size 432x288 with 1 Axes>"
            ],
            "image/png": "[encoded data removed]"
          },
          "metadata": {
            "needs_background": "light"
          }
        }
      ]
    }
  ],
  "metadata": {
    "accelerator": "GPU",
    "colab": {
      "provenance": [],
      "machine_shape": "hm"
    },
    "gpuClass": "premium",
    "kernelspec": {
      "display_name": "Python 3",
      "name": "python3"
    },
    "language_info": {
      "name": "python"
    }
  },
  "nbformat": 4,
  "nbformat_minor": 0
}